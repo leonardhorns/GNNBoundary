{
 "cells": [
  {
   "cell_type": "code",
   "execution_count": 1,
   "id": "1a91b813",
   "metadata": {
    "ExecuteTime": {
     "end_time": "2024-04-21T13:36:48.366177Z",
     "start_time": "2024-04-21T13:36:48.353933Z"
    },
    "collapsed": false,
    "pycharm": {
     "name": "#%%\n"
    }
   },
   "outputs": [],
   "source": [
    "%load_ext autoreload\n",
    "%autoreload 2"
   ]
  },
  {
   "cell_type": "code",
   "execution_count": 2,
   "id": "c7f4188d",
   "metadata": {
    "ExecuteTime": {
     "end_time": "2024-04-21T13:37:07.018931Z",
     "start_time": "2024-04-21T13:37:00.945460Z"
    },
    "collapsed": false,
    "pycharm": {
     "name": "#%%\n"
    }
   },
   "outputs": [],
   "source": [
    "from gnnboundary import *"
   ]
  },
  {
   "cell_type": "code",
   "execution_count": 3,
   "id": "2ab76fb3",
   "metadata": {
    "ExecuteTime": {
     "end_time": "2024-04-21T13:37:08.595054Z",
     "start_time": "2024-04-21T13:37:08.569986Z"
    },
    "collapsed": false,
    "pycharm": {
     "name": "#%%\n"
    }
   },
   "outputs": [],
   "source": [
    "import torch"
   ]
  },
  {
   "cell_type": "markdown",
   "id": "395a07f1",
   "metadata": {},
   "source": [
    "# ENZYMES"
   ]
  },
  {
   "cell_type": "code",
   "execution_count": 4,
   "id": "52747602",
   "metadata": {
    "ExecuteTime": {
     "end_time": "2024-04-21T13:37:14.184584Z",
     "start_time": "2024-04-21T13:37:14.057661Z"
    },
    "collapsed": false,
    "pycharm": {
     "name": "#%%\n"
    }
   },
   "outputs": [],
   "source": [
    "dataset = ENZYMESDataset(seed=12345)"
   ]
  },
  {
   "cell_type": "code",
   "execution_count": null,
   "id": "11c148407d564a36",
   "metadata": {
    "ExecuteTime": {
     "end_time": "2024-04-21T14:06:46.882050Z",
     "start_time": "2024-04-21T14:06:46.767230Z"
    },
    "collapsed": false
   },
   "outputs": [],
   "source": [
    "model = GCNClassifier(node_features=len(dataset.NODE_CLS),\n",
    "                      num_classes=len(dataset.GRAPH_CLS),\n",
    "                      hidden_channels=32,\n",
    "                      num_layers=3)\n",
    "model.load_state_dict(torch.load('ckpts/enzymes.pt'))"
   ]
  },
  {
   "cell_type": "code",
   "execution_count": null,
   "id": "4c1617a4-666d-43de-8f0e-c5301b74375f",
   "metadata": {
    "ExecuteTime": {
     "end_time": "2024-04-21T14:06:49.164081Z",
     "start_time": "2024-04-21T14:06:49.042954Z"
    },
    "collapsed": false,
    "pycharm": {
     "name": "#%%\n"
    }
   },
   "outputs": [],
   "source": [
    "dataset_list_gt = dataset.split_by_class()\n",
    "dataset_list_pred = dataset.split_by_pred(model)"
   ]
  },
  {
   "cell_type": "code",
   "execution_count": null,
   "id": "6645ce41-8d77-4945-a474-561843ee8109",
   "metadata": {
    "ExecuteTime": {
     "end_time": "2024-04-21T14:06:50.777309Z",
     "start_time": "2024-04-21T14:06:50.585874Z"
    }
   },
   "outputs": [],
   "source": [
    "evaluation = dataset.model_evaluate(model)\n",
    "evaluation"
   ]
  },
  {
   "cell_type": "code",
   "execution_count": null,
   "id": "4a7fa4ebd9122bb6",
   "metadata": {
    "ExecuteTime": {
     "end_time": "2024-04-21T14:06:57.993755Z",
     "start_time": "2024-04-21T14:06:57.822565Z"
    },
    "collapsed": false
   },
   "outputs": [],
   "source": [
    "draw_matrix(evaluation['cm'], dataset.GRAPH_CLS.values(), fmt='d')"
   ]
  },
  {
   "cell_type": "code",
   "execution_count": null,
   "id": "d4a27bdf-0586-4652-9989-53b8257bb2e9",
   "metadata": {
    "ExecuteTime": {
     "end_time": "2024-04-21T14:07:02.813788Z",
     "start_time": "2024-04-21T14:07:02.695899Z"
    }
   },
   "outputs": [],
   "source": [
    "mean_embeds = [d.model_transform(model, key=\"embeds\").mean(dim=0) for d in dataset_list_gt]"
   ]
  },
  {
   "cell_type": "code",
   "execution_count": null,
   "id": "5babc5ffb39f4883",
   "metadata": {
    "ExecuteTime": {
     "end_time": "2024-04-21T14:07:14.154734Z",
     "start_time": "2024-04-21T14:07:04.904201Z"
    },
    "collapsed": false
   },
   "outputs": [],
   "source": [
    "adj_ratio_mat, boundary_info = pairwise_boundary_analysis(model, dataset_list_pred)\n",
    "draw_matrix(adj_ratio_mat, names=dataset.GRAPH_CLS.values(), fmt='.2f')"
   ]
  },
  {
   "cell_type": "code",
   "execution_count": 20,
   "id": "2c966c81e3166b9e",
   "metadata": {
    "ExecuteTime": {
     "end_time": "2024-04-21T14:07:14.180691Z",
     "start_time": "2024-04-21T14:07:14.155891Z"
    },
    "collapsed": false
   },
   "outputs": [],
   "source": [
    "trainer = {}\n",
    "sampler = {}"
   ]
  },
  {
   "cell_type": "markdown",
   "id": "3b14f7f32f4e893f",
   "metadata": {
    "collapsed": false
   },
   "source": [
    "# 0 & 3"
   ]
  },
  {
   "cell_type": "code",
   "execution_count": 29,
   "id": "e0c56d1257c6f78a",
   "metadata": {
    "ExecuteTime": {
     "end_time": "2024-04-21T14:11:27.406028Z",
     "start_time": "2024-04-21T14:11:27.377380Z"
    },
    "collapsed": false
   },
   "outputs": [],
   "source": [
    "cls_1, cls_2 = 0, 3\n",
    "trainer[cls_1, cls_2] = Trainer(\n",
    "    sampler=(s := GraphSampler(\n",
    "        max_nodes=25,\n",
    "        temperature=0.2,\n",
    "        num_node_cls=len(dataset.NODE_CLS),\n",
    "        learn_node_feat=True\n",
    "    )),\n",
    "    discriminator=model,\n",
    "    criterion=WeightedCriterion([\n",
    "        dict(key=\"logits\", criterion=DynamicBalancingBoundaryCriterion(\n",
    "            classes=[cls_1, cls_2], alpha=1, beta=1\n",
    "        ), weight=5),\n",
    "        dict(key=\"embeds\", criterion=EmbeddingCriterion(target_embedding=mean_embeds[cls_1]), weight=0),\n",
    "        dict(key=\"embeds\", criterion=EmbeddingCriterion(target_embedding=mean_embeds[cls_2]), weight=0),\n",
    "        dict(key=\"logits\", criterion=MeanPenalty(), weight=0),\n",
    "        dict(key=\"omega\", criterion=NormPenalty(order=1), weight=1),\n",
    "        dict(key=\"omega\", criterion=NormPenalty(order=2), weight=1),\n",
    "        # dict(key=\"xi\", criterion=NormPenalty(order=1), weight=0),\n",
    "        # dict(key=\"xi\", criterion=NormPenalty(order=2), weight=0),\n",
    "        # dict(key=\"eta\", criterion=NormPenalty(order=1), weight=0),\n",
    "        # dict(key=\"eta\", criterion=NormPenalty(order=2), weight=0),\n",
    "        dict(key=\"theta_pairs\", criterion=KLDivergencePenalty(binary=True), weight=0),\n",
    "    ]),\n",
    "    optimizer=(o := torch.optim.SGD(s.parameters(), lr=1)),\n",
    "    scheduler=torch.optim.lr_scheduler.ExponentialLR(o, gamma=1),\n",
    "    dataset=dataset,\n",
    "    budget_penalty=BudgetPenalty(budget=10, order=2, beta=1),\n",
    ")"
   ]
  },
  {
   "cell_type": "code",
   "execution_count": null,
   "id": "9322ac39a908f5b3",
   "metadata": {
    "ExecuteTime": {
     "end_time": "2024-04-21T14:11:29.746278Z",
     "start_time": "2024-04-21T14:11:28.421477Z"
    },
    "collapsed": false
   },
   "outputs": [],
   "source": [
    "cls_1, cls_2 = 0, 3\n",
    "trainer[cls_1, cls_2].train(\n",
    "    iterations=2000,\n",
    "    target_probs={cls_1: (0.4, 0.6), cls_2: (0.4, 0.6)},\n",
    "    target_size=40,\n",
    "    w_budget_init=1,\n",
    "    w_budget_inc=1.1,\n",
    "    w_budget_dec=0.95,\n",
    "    k_samples=16\n",
    ")"
   ]
  },
  {
   "cell_type": "code",
   "execution_count": null,
   "id": "d332cd2cbd296c97",
   "metadata": {
    "ExecuteTime": {
     "end_time": "2024-04-21T14:11:32.990046Z",
     "start_time": "2024-04-21T14:11:32.914671Z"
    },
    "collapsed": false
   },
   "outputs": [],
   "source": [
    "trainer[0, 3].evaluate(threshold=0.5, show=True)"
   ]
  },
  {
   "cell_type": "markdown",
   "id": "1a7b19828912b1c9",
   "metadata": {},
   "source": [
    "# 0 & 4"
   ]
  },
  {
   "cell_type": "code",
   "execution_count": 42,
   "id": "cbe1d77b61285d17",
   "metadata": {
    "ExecuteTime": {
     "end_time": "2024-04-21T14:15:32.109897Z",
     "start_time": "2024-04-21T14:15:32.081126Z"
    }
   },
   "outputs": [],
   "source": [
    "cls_1, cls_2 = 0, 4\n",
    "trainer[cls_1, cls_2] = Trainer(\n",
    "    sampler=(s := GraphSampler(\n",
    "        max_nodes=25,\n",
    "        temperature=0.2,\n",
    "        num_node_cls=len(dataset.NODE_CLS),\n",
    "        learn_node_feat=True\n",
    "    )),\n",
    "    discriminator=model,\n",
    "    criterion=WeightedCriterion([\n",
    "        dict(key=\"logits\", criterion=DynamicBalancingBoundaryCriterion(\n",
    "            classes=[cls_1, cls_2], alpha=2, beta=1\n",
    "        ), weight=15),\n",
    "        dict(key=\"embeds\", criterion=EmbeddingCriterion(target_embedding=mean_embeds[cls_1]), weight=1),\n",
    "        dict(key=\"embeds\", criterion=EmbeddingCriterion(target_embedding=mean_embeds[cls_2]), weight=1),\n",
    "        dict(key=\"logits\", criterion=MeanPenalty(), weight=5),\n",
    "        dict(key=\"omega\", criterion=NormPenalty(order=1), weight=1),\n",
    "        dict(key=\"omega\", criterion=NormPenalty(order=2), weight=1),\n",
    "        # dict(key=\"xi\", criterion=NormPenalty(order=1), weight=0),\n",
    "        # dict(key=\"xi\", criterion=NormPenalty(order=2), weight=0),\n",
    "        # dict(key=\"eta\", criterion=NormPenalty(order=1), weight=0),\n",
    "        # dict(key=\"eta\", criterion=NormPenalty(order=2), weight=0),\n",
    "        dict(key=\"theta_pairs\", criterion=KLDivergencePenalty(binary=True), weight=0),\n",
    "    ]),\n",
    "    optimizer=(o := torch.optim.SGD(s.parameters(), lr=1)),\n",
    "    scheduler=torch.optim.lr_scheduler.ExponentialLR(o, gamma=1),\n",
    "    dataset=dataset,\n",
    "    budget_penalty=BudgetPenalty(budget=10, order=2, beta=1),\n",
    ")"
   ]
  },
  {
   "cell_type": "code",
   "execution_count": null,
   "id": "4da0a4007941b3a9",
   "metadata": {
    "ExecuteTime": {
     "end_time": "2024-04-21T14:15:47.802117Z",
     "start_time": "2024-04-21T14:15:33.116075Z"
    }
   },
   "outputs": [],
   "source": [
    "cls_1, cls_2 = 0, 4\n",
    "trainer[cls_1, cls_2].train(\n",
    "    iterations=2000,\n",
    "    target_probs={cls_1: (0.4, 0.6), cls_2: (0.4, 0.6)},\n",
    "    target_size=40,\n",
    "    w_budget_init=1,\n",
    "    w_budget_inc=1.1,\n",
    "    w_budget_dec=0.95,\n",
    "    k_samples=16\n",
    ")"
   ]
  },
  {
   "cell_type": "code",
   "execution_count": null,
   "id": "b35f2eb59f9e45db",
   "metadata": {
    "ExecuteTime": {
     "end_time": "2024-04-21T14:15:49.165852Z",
     "start_time": "2024-04-21T14:15:49.090171Z"
    }
   },
   "outputs": [],
   "source": [
    "trainer[0, 4].evaluate(threshold=0.5, show=True)"
   ]
  },
  {
   "cell_type": "markdown",
   "id": "b94a43203d295499",
   "metadata": {
    "collapsed": false
   },
   "source": [
    "# 0 & 5"
   ]
  },
  {
   "cell_type": "code",
   "execution_count": 51,
   "id": "dfe192c7e27bacbb",
   "metadata": {
    "ExecuteTime": {
     "end_time": "2024-04-21T14:17:31.251448Z",
     "start_time": "2024-04-21T14:17:31.220635Z"
    },
    "collapsed": false
   },
   "outputs": [],
   "source": [
    "cls_1, cls_2 = 0, 5\n",
    "trainer[cls_1, cls_2] = Trainer(\n",
    "    sampler=(s := GraphSampler(\n",
    "        max_nodes=25,\n",
    "        temperature=0.2,\n",
    "        num_node_cls=len(dataset.NODE_CLS),\n",
    "        learn_node_feat=True\n",
    "    )),\n",
    "    discriminator=model,\n",
    "    criterion=WeightedCriterion([\n",
    "        dict(key=\"logits\", criterion=DynamicBalancingBoundaryCriterion(\n",
    "            classes=[cls_1, cls_2], alpha=2, beta=1\n",
    "        ), weight=15),\n",
    "        dict(key=\"embeds\", criterion=EmbeddingCriterion(target_embedding=mean_embeds[cls_1]), weight=1),\n",
    "        dict(key=\"embeds\", criterion=EmbeddingCriterion(target_embedding=mean_embeds[cls_2]), weight=1),\n",
    "        dict(key=\"logits\", criterion=MeanPenalty(), weight=5),\n",
    "        dict(key=\"omega\", criterion=NormPenalty(order=1), weight=1),\n",
    "        dict(key=\"omega\", criterion=NormPenalty(order=2), weight=1),\n",
    "        # dict(key=\"xi\", criterion=NormPenalty(order=1), weight=0),\n",
    "        # dict(key=\"xi\", criterion=NormPenalty(order=2), weight=0),\n",
    "        # dict(key=\"eta\", criterion=NormPenalty(order=1), weight=0),\n",
    "        # dict(key=\"eta\", criterion=NormPenalty(order=2), weight=0),\n",
    "        dict(key=\"theta_pairs\", criterion=KLDivergencePenalty(binary=True), weight=0),\n",
    "    ]),\n",
    "    optimizer=(o := torch.optim.SGD(s.parameters(), lr=1)),\n",
    "    scheduler=torch.optim.lr_scheduler.ExponentialLR(o, gamma=1),\n",
    "    dataset=dataset,\n",
    "    budget_penalty=BudgetPenalty(budget=10, order=2, beta=1),\n",
    ")"
   ]
  },
  {
   "cell_type": "code",
   "execution_count": null,
   "id": "6fd2624b4cbd193f",
   "metadata": {
    "ExecuteTime": {
     "end_time": "2024-04-21T14:17:47.375515Z",
     "start_time": "2024-04-21T14:17:32.308278Z"
    },
    "collapsed": false
   },
   "outputs": [],
   "source": [
    "cls_1, cls_2 = 0, 5\n",
    "trainer[cls_1, cls_2].train(\n",
    "    iterations=2000,\n",
    "    target_probs={cls_1: (0.4, 0.6), cls_2: (0.4, 0.6)},\n",
    "    target_size=40,\n",
    "    w_budget_init=1,\n",
    "    w_budget_inc=1.1,\n",
    "    w_budget_dec=0.95,\n",
    "    k_samples=16\n",
    ")"
   ]
  },
  {
   "cell_type": "code",
   "execution_count": null,
   "id": "619c0661573c58cb",
   "metadata": {
    "ExecuteTime": {
     "end_time": "2024-04-21T14:17:48.820201Z",
     "start_time": "2024-04-21T14:17:48.749627Z"
    },
    "collapsed": false
   },
   "outputs": [],
   "source": [
    "trainer[0, 5].evaluate(threshold=0.5, show=True)"
   ]
  },
  {
   "cell_type": "markdown",
   "id": "4f4d3ddd-9bb6-456c-9a68-5a3edd019e6e",
   "metadata": {},
   "source": [
    "# 1 & 2"
   ]
  },
  {
   "cell_type": "code",
   "execution_count": 56,
   "id": "cee8d978ff9fc2ee",
   "metadata": {
    "ExecuteTime": {
     "end_time": "2024-04-21T14:18:36.199023Z",
     "start_time": "2024-04-21T14:18:36.170415Z"
    },
    "collapsed": false
   },
   "outputs": [],
   "source": [
    "cls_1, cls_2 = 1, 2\n",
    "trainer[cls_1, cls_2] = Trainer(\n",
    "    sampler=(s := GraphSampler(\n",
    "        max_nodes=25,\n",
    "        temperature=0.2,\n",
    "        num_node_cls=len(dataset.NODE_CLS),\n",
    "        learn_node_feat=True\n",
    "    )),\n",
    "    discriminator=model,\n",
    "    criterion=WeightedCriterion([\n",
    "        dict(key=\"logits\", criterion=DynamicBalancingBoundaryCriterion(\n",
    "            classes=[cls_1, cls_2], alpha=1, beta=1\n",
    "        ), weight=5),\n",
    "        dict(key=\"embeds\", criterion=EmbeddingCriterion(target_embedding=mean_embeds[cls_1]), weight=0),\n",
    "        dict(key=\"embeds\", criterion=EmbeddingCriterion(target_embedding=mean_embeds[cls_2]), weight=0),\n",
    "        dict(key=\"logits\", criterion=MeanPenalty(), weight=1),\n",
    "        dict(key=\"omega\", criterion=NormPenalty(order=1), weight=1),\n",
    "        dict(key=\"omega\", criterion=NormPenalty(order=2), weight=1),\n",
    "        # dict(key=\"xi\", criterion=NormPenalty(order=1), weight=0),\n",
    "        # dict(key=\"xi\", criterion=NormPenalty(order=2), weight=0),\n",
    "        # dict(key=\"eta\", criterion=NormPenalty(order=1), weight=0),\n",
    "        # dict(key=\"eta\", criterion=NormPenalty(order=2), weight=0),\n",
    "        dict(key=\"theta_pairs\", criterion=KLDivergencePenalty(binary=True), weight=0),\n",
    "    ]),\n",
    "    optimizer=(o := torch.optim.SGD(s.parameters(), lr=1)),\n",
    "    scheduler=torch.optim.lr_scheduler.ExponentialLR(o, gamma=1),\n",
    "    dataset=dataset,\n",
    "    budget_penalty=BudgetPenalty(budget=10, order=2, beta=1),\n",
    ")"
   ]
  },
  {
   "cell_type": "code",
   "execution_count": null,
   "id": "dcc3278f-a073-42e2-b446-0115025e391f",
   "metadata": {
    "ExecuteTime": {
     "end_time": "2024-04-21T14:18:46.406213Z",
     "start_time": "2024-04-21T14:18:37.209755Z"
    }
   },
   "outputs": [],
   "source": [
    "cls_1, cls_2 = 1, 2\n",
    "trainer[cls_1, cls_2].train(\n",
    "    iterations=2000,\n",
    "    target_probs={cls_1: (0.4, 0.6), cls_2: (0.4, 0.6)},\n",
    "    target_size=40,\n",
    "    w_budget_init=1,\n",
    "    w_budget_inc=1.1,\n",
    "    w_budget_dec=0.95,\n",
    "    k_samples=16\n",
    ")"
   ]
  },
  {
   "cell_type": "code",
   "execution_count": null,
   "id": "10896fc3a8e2ea3d",
   "metadata": {
    "ExecuteTime": {
     "end_time": "2024-04-21T14:18:51.163036Z",
     "start_time": "2024-04-21T14:18:51.087835Z"
    },
    "collapsed": false
   },
   "outputs": [],
   "source": [
    "trainer[1, 2].evaluate(threshold=0.5, show=True)"
   ]
  },
  {
   "cell_type": "markdown",
   "id": "c6d696af7832f4f",
   "metadata": {
    "collapsed": false
   },
   "source": [
    "# 1 & 5"
   ]
  },
  {
   "cell_type": "code",
   "execution_count": 62,
   "id": "3aa7f4dab5a48bc2",
   "metadata": {
    "ExecuteTime": {
     "end_time": "2024-04-21T14:19:51.528410Z",
     "start_time": "2024-04-21T14:19:51.500559Z"
    },
    "collapsed": false
   },
   "outputs": [],
   "source": [
    "cls_1, cls_2 = 1, 5\n",
    "trainer[cls_1, cls_2] = Trainer(\n",
    "    sampler=(s := GraphSampler(\n",
    "        max_nodes=25,\n",
    "        temperature=0.2,\n",
    "        num_node_cls=len(dataset.NODE_CLS),\n",
    "        learn_node_feat=True\n",
    "    )),\n",
    "    discriminator=model,\n",
    "    criterion=WeightedCriterion([\n",
    "        dict(key=\"logits\", criterion=DynamicBalancingBoundaryCriterion(\n",
    "            classes=[cls_1, cls_2], alpha=1, beta=2\n",
    "        ), weight=5),\n",
    "        dict(key=\"embeds\", criterion=EmbeddingCriterion(target_embedding=mean_embeds[cls_1]), weight=0),\n",
    "        dict(key=\"embeds\", criterion=EmbeddingCriterion(target_embedding=mean_embeds[cls_2]), weight=0),\n",
    "        dict(key=\"logits\", criterion=MeanPenalty(), weight=1),\n",
    "        dict(key=\"omega\", criterion=NormPenalty(order=1), weight=1),\n",
    "        dict(key=\"omega\", criterion=NormPenalty(order=2), weight=1),\n",
    "        # dict(key=\"xi\", criterion=NormPenalty(order=1), weight=0),\n",
    "        # dict(key=\"xi\", criterion=NormPenalty(order=2), weight=0),\n",
    "        # dict(key=\"eta\", criterion=NormPenalty(order=1), weight=0),\n",
    "        # dict(key=\"eta\", criterion=NormPenalty(order=2), weight=0),\n",
    "        dict(key=\"theta_pairs\", criterion=KLDivergencePenalty(binary=True), weight=0),\n",
    "    ]),\n",
    "    optimizer=(o := torch.optim.SGD(s.parameters(), lr=1)),\n",
    "    scheduler=torch.optim.lr_scheduler.ExponentialLR(o, gamma=1),\n",
    "    dataset=dataset,\n",
    "    budget_penalty=BudgetPenalty(budget=15, order=2, beta=1),\n",
    ")"
   ]
  },
  {
   "cell_type": "code",
   "execution_count": null,
   "id": "1b67c1a21258a565",
   "metadata": {
    "ExecuteTime": {
     "end_time": "2024-04-21T14:19:56.307948Z",
     "start_time": "2024-04-21T14:19:52.532980Z"
    },
    "collapsed": false
   },
   "outputs": [],
   "source": [
    "cls_1, cls_2 = 1, 5\n",
    "trainer[cls_1, cls_2].train(\n",
    "    iterations=2000,\n",
    "    target_probs={cls_1: (0.4, 0.6), cls_2: (0.4, 0.6)},\n",
    "    target_size=40,\n",
    "    w_budget_init=1,\n",
    "    w_budget_inc=1.1,\n",
    "    w_budget_dec=0.95,\n",
    "    k_samples=16\n",
    ")"
   ]
  },
  {
   "cell_type": "code",
   "execution_count": null,
   "id": "f43819f4ba7afff7",
   "metadata": {
    "ExecuteTime": {
     "end_time": "2024-04-21T14:19:56.383962Z",
     "start_time": "2024-04-21T14:19:56.308922Z"
    },
    "collapsed": false
   },
   "outputs": [],
   "source": [
    "trainer[1, 5].evaluate(threshold=0.5, show=True)"
   ]
  },
  {
   "cell_type": "markdown",
   "id": "182c8c09a37b30fd",
   "metadata": {
    "collapsed": false
   },
   "source": [
    "# 2 & 4"
   ]
  },
  {
   "cell_type": "code",
   "execution_count": 74,
   "id": "d5e89d75cf40b372",
   "metadata": {
    "ExecuteTime": {
     "end_time": "2024-04-21T14:22:20.857687Z",
     "start_time": "2024-04-21T14:22:20.829582Z"
    },
    "collapsed": false
   },
   "outputs": [],
   "source": [
    "cls_1, cls_2 = 2, 4\n",
    "trainer[cls_1, cls_2] = Trainer(\n",
    "    sampler=(s := GraphSampler(\n",
    "        max_nodes=25,\n",
    "        temperature=0.2,\n",
    "        num_node_cls=len(dataset.NODE_CLS),\n",
    "        learn_node_feat=True\n",
    "    )),\n",
    "    discriminator=model,\n",
    "    criterion=WeightedCriterion([\n",
    "        dict(key=\"logits\", criterion=DynamicBalancingBoundaryCriterion(\n",
    "            classes=[cls_1, cls_2], alpha=1, beta=1\n",
    "        ), weight=10),\n",
    "        dict(key=\"embeds\", criterion=EmbeddingCriterion(target_embedding=mean_embeds[cls_1]), weight=1),\n",
    "        dict(key=\"embeds\", criterion=EmbeddingCriterion(target_embedding=mean_embeds[cls_2]), weight=1),\n",
    "        dict(key=\"logits\", criterion=MeanPenalty(), weight=1),\n",
    "        dict(key=\"omega\", criterion=NormPenalty(order=1), weight=1),\n",
    "        dict(key=\"omega\", criterion=NormPenalty(order=2), weight=1),\n",
    "        # dict(key=\"xi\", criterion=NormPenalty(order=1), weight=0),\n",
    "        # dict(key=\"xi\", criterion=NormPenalty(order=2), weight=0),\n",
    "        # dict(key=\"eta\", criterion=NormPenalty(order=1), weight=0),\n",
    "        # dict(key=\"eta\", criterion=NormPenalty(order=2), weight=0),\n",
    "        dict(key=\"theta_pairs\", criterion=KLDivergencePenalty(binary=True), weight=1),\n",
    "    ]),\n",
    "    optimizer=(o := torch.optim.SGD(s.parameters(), lr=1)),\n",
    "    scheduler=torch.optim.lr_scheduler.ExponentialLR(o, gamma=1),\n",
    "    dataset=dataset,\n",
    "    budget_penalty=BudgetPenalty(budget=15, order=2, beta=1),\n",
    ")"
   ]
  },
  {
   "cell_type": "code",
   "execution_count": null,
   "id": "26fed106b15aa5b1",
   "metadata": {
    "ExecuteTime": {
     "end_time": "2024-04-21T14:22:24.697487Z",
     "start_time": "2024-04-21T14:22:21.893033Z"
    },
    "collapsed": false
   },
   "outputs": [],
   "source": [
    "cls_1, cls_2 = 2, 4\n",
    "trainer[cls_1, cls_2].train(\n",
    "    iterations=2000,\n",
    "    target_probs={cls_1: (0.4, 0.6), cls_2: (0.4, 0.6)},\n",
    "    target_size=40,\n",
    "    w_budget_init=1,\n",
    "    w_budget_inc=1.1,\n",
    "    w_budget_dec=0.95,\n",
    "    k_samples=16\n",
    ")"
   ]
  },
  {
   "cell_type": "code",
   "execution_count": null,
   "id": "17f37e8b90d8f178",
   "metadata": {
    "ExecuteTime": {
     "end_time": "2024-04-21T14:22:27.532054Z",
     "start_time": "2024-04-21T14:22:27.460753Z"
    },
    "collapsed": false
   },
   "outputs": [],
   "source": [
    "trainer[2, 4].evaluate(threshold=0.5, show=True)"
   ]
  },
  {
   "cell_type": "markdown",
   "id": "425c32c04ba84527",
   "metadata": {},
   "source": [
    "# 3 & 4"
   ]
  },
  {
   "cell_type": "code",
   "execution_count": 204,
   "id": "3bd49778e9698571",
   "metadata": {
    "ExecuteTime": {
     "end_time": "2024-04-21T14:53:14.124134Z",
     "start_time": "2024-04-21T14:53:14.083269Z"
    }
   },
   "outputs": [],
   "source": [
    "cls_1, cls_2 = 3, 4\n",
    "trainer[cls_1, cls_2] = Trainer(\n",
    "    sampler=(s := GraphSampler(\n",
    "        max_nodes=20,\n",
    "        temperature=0.2,\n",
    "        num_node_cls=len(dataset.NODE_CLS),\n",
    "        learn_node_feat=True\n",
    "    )),\n",
    "    discriminator=model,\n",
    "    criterion=WeightedCriterion([\n",
    "        dict(key=\"logits\", criterion=DynamicBalancingBoundaryCriterion(\n",
    "            classes=[cls_1, cls_2], alpha=5, beta=1\n",
    "        ), weight=20),\n",
    "        dict(key=\"embeds\", criterion=EmbeddingCriterion(target_embedding=mean_embeds[cls_1]), weight=1),\n",
    "        dict(key=\"embeds\", criterion=EmbeddingCriterion(target_embedding=mean_embeds[cls_2]), weight=1),\n",
    "        dict(key=\"logits\", criterion=MeanPenalty(), weight=5),\n",
    "        dict(key=\"omega\", criterion=NormPenalty(order=1), weight=1),\n",
    "        dict(key=\"omega\", criterion=NormPenalty(order=2), weight=1),\n",
    "        # dict(key=\"xi\", criterion=NormPenalty(order=1), weight=0),\n",
    "        # dict(key=\"xi\", criterion=NormPenalty(order=2), weight=0),\n",
    "        # dict(key=\"eta\", criterion=NormPenalty(order=1), weight=0),\n",
    "        # dict(key=\"eta\", criterion=NormPenalty(order=2), weight=0),\n",
    "        dict(key=\"theta_pairs\", criterion=KLDivergencePenalty(binary=True), weight=1),\n",
    "    ]),\n",
    "    optimizer=(o := torch.optim.Adam(s.parameters(), lr=1)),\n",
    "    scheduler=torch.optim.lr_scheduler.ExponentialLR(o, gamma=1),\n",
    "    dataset=dataset,\n",
    "    budget_penalty=BudgetPenalty(budget=10, order=2, beta=1),\n",
    ")"
   ]
  },
  {
   "cell_type": "code",
   "execution_count": null,
   "id": "b26e1e0371fc57c4",
   "metadata": {
    "ExecuteTime": {
     "end_time": "2024-04-21T14:53:21.207715Z",
     "start_time": "2024-04-21T14:53:15.144922Z"
    }
   },
   "outputs": [],
   "source": [
    "cls_1, cls_2 = 3, 4\n",
    "trainer[cls_1, cls_2].train(\n",
    "    iterations=2000,\n",
    "    target_probs={cls_1: (0.4, 0.6), cls_2: (0.4, 0.6)},\n",
    "    target_size=40,\n",
    "    w_budget_init=1,\n",
    "    w_budget_inc=1.1,\n",
    "    w_budget_dec=0.95,\n",
    "    k_samples=16\n",
    ")"
   ]
  },
  {
   "cell_type": "code",
   "execution_count": null,
   "id": "c280b473acf64fca",
   "metadata": {
    "ExecuteTime": {
     "end_time": "2024-04-21T14:53:23.077059Z",
     "start_time": "2024-04-21T14:53:23.006142Z"
    }
   },
   "outputs": [],
   "source": [
    "trainer[3, 4].evaluate(threshold=0.5, show=True)"
   ]
  },
  {
   "cell_type": "markdown",
   "id": "e7fd5348c0b164c1",
   "metadata": {},
   "source": [
    "# 4 & 5"
   ]
  },
  {
   "cell_type": "code",
   "execution_count": 68,
   "id": "4c481a20bc73f4d0",
   "metadata": {},
   "outputs": [],
   "source": [
    "cls_1, cls_2 = 4, 5\n",
    "trainer[cls_1, cls_2] = Trainer(\n",
    "    sampler=(s := GraphSampler(\n",
    "        max_nodes=25,\n",
    "        temperature=0.2,\n",
    "        num_node_cls=len(dataset.NODE_CLS),\n",
    "        learn_node_feat=True\n",
    "    )),\n",
    "    discriminator=model,\n",
    "    criterion=WeightedCriterion([\n",
    "        dict(key=\"logits\", criterion=DynamicBalancingBoundaryCriterion(\n",
    "            classes=[cls_1, cls_2], alpha=1, beta=1\n",
    "        ), weight=5),\n",
    "        dict(key=\"embeds\", criterion=EmbeddingCriterion(target_embedding=mean_embeds[cls_1]), weight=0),\n",
    "        dict(key=\"embeds\", criterion=EmbeddingCriterion(target_embedding=mean_embeds[cls_2]), weight=0),\n",
    "        dict(key=\"logits\", criterion=MeanPenalty(), weight=1),\n",
    "        dict(key=\"omega\", criterion=NormPenalty(order=1), weight=1),\n",
    "        dict(key=\"omega\", criterion=NormPenalty(order=2), weight=1),\n",
    "        # dict(key=\"xi\", criterion=NormPenalty(order=1), weight=0),\n",
    "        # dict(key=\"xi\", criterion=NormPenalty(order=2), weight=0),\n",
    "        # dict(key=\"eta\", criterion=NormPenalty(order=1), weight=0),\n",
    "        # dict(key=\"eta\", criterion=NormPenalty(order=2), weight=0),\n",
    "        dict(key=\"theta_pairs\", criterion=KLDivergencePenalty(binary=True), weight=1),\n",
    "    ]),\n",
    "    optimizer=(o := torch.optim.SGD(s.parameters(), lr=1)),\n",
    "    scheduler=torch.optim.lr_scheduler.ExponentialLR(o, gamma=1),\n",
    "    dataset=dataset,\n",
    "    budget_penalty=BudgetPenalty(budget=15, order=2, beta=1),\n",
    ")"
   ]
  },
  {
   "cell_type": "code",
   "execution_count": null,
   "id": "7401f8a02e714fc2",
   "metadata": {},
   "outputs": [],
   "source": [
    "cls_1, cls_2 = 4, 5\n",
    "trainer[cls_1, cls_2].train(\n",
    "    iterations=2000,\n",
    "    target_probs={cls_1: (0.4, 0.6), cls_2: (0.4, 0.6)},\n",
    "    target_size=40,\n",
    "    w_budget_init=1,\n",
    "    w_budget_inc=1.1,\n",
    "    w_budget_dec=0.95,\n",
    "    k_samples=16\n",
    ")"
   ]
  },
  {
   "cell_type": "code",
   "execution_count": null,
   "id": "658cf476b1f66b2",
   "metadata": {},
   "outputs": [],
   "source": [
    "trainer[4, 5].evaluate(threshold=0.5, show=True)"
   ]
  },
  {
   "cell_type": "code",
   "execution_count": null,
   "id": "6ee69ae4470291dd",
   "metadata": {
    "collapsed": false
   },
   "outputs": [],
   "source": []
  }
 ],
 "metadata": {
  "kernelspec": {
   "display_name": "Python 3 (ipykernel)",
   "language": "python",
   "name": "python3"
  },
  "language_info": {
   "codemirror_mode": {
    "name": "ipython",
    "version": 3
   },
   "file_extension": ".py",
   "mimetype": "text/x-python",
   "name": "python",
   "nbconvert_exporter": "python",
   "pygments_lexer": "ipython3",
   "version": "3.10.12"
  },
  "widgets": {
   "application/vnd.jupyter.widget-state+json": {
    "state": {
     "07b43483463e4ae3b9a7b160d8938299": {
      "model_module": "@jupyter-widgets/controls",
      "model_module_version": "2.0.0",
      "model_name": "DescriptionStyleModel",
      "state": {
       "_model_module": "@jupyter-widgets/controls",
       "_model_name": "DescriptionStyleModel",
       "_view_name": "ErrorWidgetView",
       "description_width": "",
       "error": {},
       "msg": "Failed to load model class 'DescriptionStyleModel' from module '@jupyter-widgets/controls'"
      }
     },
     "0b87e5fec1ff41aeb4c9e624a222f89b": {
      "model_module": "@jupyter-widgets/base",
      "model_module_version": "2.0.0",
      "model_name": "LayoutModel",
      "state": {
       "_model_name": "LayoutModel",
       "_view_name": "ErrorWidgetView",
       "align_content": null,
       "align_items": null,
       "align_self": null,
       "border": null,
       "bottom": null,
       "display": null,
       "error": {},
       "flex": null,
       "flex_flow": null,
       "grid_area": null,
       "grid_auto_columns": null,
       "grid_auto_flow": null,
       "grid_auto_rows": null,
       "grid_column": null,
       "grid_gap": null,
       "grid_row": null,
       "grid_template_areas": null,
       "grid_template_columns": null,
       "grid_template_rows": null,
       "height": null,
       "justify_content": null,
       "justify_items": null,
       "left": null,
       "margin": null,
       "max_height": null,
       "max_width": null,
       "min_height": null,
       "min_width": null,
       "msg": "Failed to load model class 'LayoutModel' from module '@jupyter-widgets/base'",
       "object_fit": null,
       "object_position": null,
       "order": null,
       "overflow": null,
       "overflow_x": null,
       "overflow_y": null,
       "padding": null,
       "right": null,
       "top": null,
       "visibility": null,
       "width": null
      }
     },
     "0cf8ded72d3147d681343573a3c5c3ad": {
      "model_module": "@jupyter-widgets/base",
      "model_module_version": "2.0.0",
      "model_name": "LayoutModel",
      "state": {
       "_model_name": "LayoutModel",
       "_view_name": "ErrorWidgetView",
       "align_content": null,
       "align_items": null,
       "align_self": null,
       "border": null,
       "bottom": null,
       "display": null,
       "error": {},
       "flex": null,
       "flex_flow": null,
       "grid_area": null,
       "grid_auto_columns": null,
       "grid_auto_flow": null,
       "grid_auto_rows": null,
       "grid_column": null,
       "grid_gap": null,
       "grid_row": null,
       "grid_template_areas": null,
       "grid_template_columns": null,
       "grid_template_rows": null,
       "height": null,
       "justify_content": null,
       "justify_items": null,
       "left": null,
       "margin": null,
       "max_height": null,
       "max_width": null,
       "min_height": null,
       "min_width": null,
       "msg": "Failed to load model class 'LayoutModel' from module '@jupyter-widgets/base'",
       "object_fit": null,
       "object_position": null,
       "order": null,
       "overflow": null,
       "overflow_x": null,
       "overflow_y": null,
       "padding": null,
       "right": null,
       "top": null,
       "visibility": null,
       "width": null
      }
     },
     "0ef53961cc214c23a5cc520142ed3530": {
      "model_module": "@jupyter-widgets/controls",
      "model_module_version": "2.0.0",
      "model_name": "DescriptionStyleModel",
      "state": {
       "_model_module": "@jupyter-widgets/controls",
       "_model_name": "DescriptionStyleModel",
       "_view_name": "ErrorWidgetView",
       "description_width": "",
       "error": {},
       "msg": "Failed to load model class 'DescriptionStyleModel' from module '@jupyter-widgets/controls'"
      }
     },
     "10730754cf7a43eca9820d10763e9a41": {
      "model_module": "@jupyter-widgets/controls",
      "model_module_version": "2.0.0",
      "model_name": "HTMLModel",
      "state": {
       "_model_module": "@jupyter-widgets/controls",
       "_model_name": "HTMLModel",
       "_view_name": "ErrorWidgetView",
       "description": "",
       "description_tooltip": null,
       "error": {},
       "layout": "IPY_MODEL_1958cff3714b451e95a8fbc5e76541b6",
       "msg": "Failed to load model class 'HTMLModel' from module '@jupyter-widgets/controls'",
       "placeholder": "​",
       "style": "IPY_MODEL_0ef53961cc214c23a5cc520142ed3530",
       "value": " 11531/11531 [00:33&lt;00:00, 255.26it/s]"
      }
     },
     "14391e150296461ca407c9ff78c5ae7e": {
      "model_module": "@jupyter-widgets/controls",
      "model_module_version": "2.0.0",
      "model_name": "DescriptionStyleModel",
      "state": {
       "_model_module": "@jupyter-widgets/controls",
       "_model_name": "DescriptionStyleModel",
       "_view_name": "ErrorWidgetView",
       "description_width": "",
       "error": {},
       "msg": "Failed to load model class 'DescriptionStyleModel' from module '@jupyter-widgets/controls'"
      }
     },
     "1958cff3714b451e95a8fbc5e76541b6": {
      "model_module": "@jupyter-widgets/base",
      "model_module_version": "2.0.0",
      "model_name": "LayoutModel",
      "state": {
       "_model_name": "LayoutModel",
       "_view_name": "ErrorWidgetView",
       "align_content": null,
       "align_items": null,
       "align_self": null,
       "border": null,
       "bottom": null,
       "display": null,
       "error": {},
       "flex": null,
       "flex_flow": null,
       "grid_area": null,
       "grid_auto_columns": null,
       "grid_auto_flow": null,
       "grid_auto_rows": null,
       "grid_column": null,
       "grid_gap": null,
       "grid_row": null,
       "grid_template_areas": null,
       "grid_template_columns": null,
       "grid_template_rows": null,
       "height": null,
       "justify_content": null,
       "justify_items": null,
       "left": null,
       "margin": null,
       "max_height": null,
       "max_width": null,
       "min_height": null,
       "min_width": null,
       "msg": "Failed to load model class 'LayoutModel' from module '@jupyter-widgets/base'",
       "object_fit": null,
       "object_position": null,
       "order": null,
       "overflow": null,
       "overflow_x": null,
       "overflow_y": null,
       "padding": null,
       "right": null,
       "top": null,
       "visibility": null,
       "width": null
      }
     },
     "218cfca13d80402ab877a02fc12211cb": {
      "model_module": "@jupyter-widgets/base",
      "model_module_version": "2.0.0",
      "model_name": "LayoutModel",
      "state": {
       "_model_name": "LayoutModel",
       "_view_name": "ErrorWidgetView",
       "align_content": null,
       "align_items": null,
       "align_self": null,
       "border": null,
       "bottom": null,
       "display": null,
       "error": {},
       "flex": null,
       "flex_flow": null,
       "grid_area": null,
       "grid_auto_columns": null,
       "grid_auto_flow": null,
       "grid_auto_rows": null,
       "grid_column": null,
       "grid_gap": null,
       "grid_row": null,
       "grid_template_areas": null,
       "grid_template_columns": null,
       "grid_template_rows": null,
       "height": null,
       "justify_content": null,
       "justify_items": null,
       "left": null,
       "margin": null,
       "max_height": null,
       "max_width": null,
       "min_height": null,
       "min_width": null,
       "msg": "Failed to load model class 'LayoutModel' from module '@jupyter-widgets/base'",
       "object_fit": null,
       "object_position": null,
       "order": null,
       "overflow": null,
       "overflow_x": null,
       "overflow_y": null,
       "padding": null,
       "right": null,
       "top": null,
       "visibility": null,
       "width": null
      }
     },
     "26ccacccb90843b7ac727e9595ab1596": {
      "model_module": "@jupyter-widgets/controls",
      "model_module_version": "2.0.0",
      "model_name": "HBoxModel",
      "state": {
       "_model_module": "@jupyter-widgets/controls",
       "_model_name": "HBoxModel",
       "_view_name": "ErrorWidgetView",
       "box_style": "",
       "children": [
        "IPY_MODEL_34fa3b9e3ba74ee399312caeceb99f69",
        "IPY_MODEL_54daa2fea4ec45d0a23452074efd359e",
        "IPY_MODEL_10730754cf7a43eca9820d10763e9a41"
       ],
       "error": {},
       "layout": "IPY_MODEL_6d28c2f4d48043aa90f29bb764583bf9",
       "msg": "Failed to load model class 'HBoxModel' from module '@jupyter-widgets/controls'"
      }
     },
     "34fa3b9e3ba74ee399312caeceb99f69": {
      "model_module": "@jupyter-widgets/controls",
      "model_module_version": "2.0.0",
      "model_name": "HTMLModel",
      "state": {
       "_model_module": "@jupyter-widgets/controls",
       "_model_name": "HTMLModel",
       "_view_name": "ErrorWidgetView",
       "description": "",
       "description_tooltip": null,
       "error": {},
       "layout": "IPY_MODEL_e9446ec84ebf43ada6872814f2acb0bb",
       "msg": "Failed to load model class 'HTMLModel' from module '@jupyter-widgets/controls'",
       "placeholder": "​",
       "style": "IPY_MODEL_690ee1b6a3cf43adb5164f200cad4fb4",
       "value": "100%"
      }
     },
     "45e44448b1ea450db792b21878b84f01": {
      "model_module": "@jupyter-widgets/controls",
      "model_module_version": "2.0.0",
      "model_name": "ProgressStyleModel",
      "state": {
       "_model_module": "@jupyter-widgets/controls",
       "_model_name": "ProgressStyleModel",
       "_view_name": "ErrorWidgetView",
       "bar_color": null,
       "description_width": "",
       "error": {},
       "msg": "Failed to load model class 'ProgressStyleModel' from module '@jupyter-widgets/controls'"
      }
     },
     "54daa2fea4ec45d0a23452074efd359e": {
      "model_module": "@jupyter-widgets/controls",
      "model_module_version": "2.0.0",
      "model_name": "FloatProgressModel",
      "state": {
       "_model_module": "@jupyter-widgets/controls",
       "_model_name": "FloatProgressModel",
       "_view_name": "ErrorWidgetView",
       "bar_style": "success",
       "description": "",
       "description_tooltip": null,
       "error": {},
       "layout": "IPY_MODEL_218cfca13d80402ab877a02fc12211cb",
       "max": 11531,
       "min": 0,
       "msg": "Failed to load model class 'FloatProgressModel' from module '@jupyter-widgets/controls'",
       "orientation": "horizontal",
       "style": "IPY_MODEL_9706bfc895af4431a44ab22509435387",
       "value": 11531
      }
     },
     "690ee1b6a3cf43adb5164f200cad4fb4": {
      "model_module": "@jupyter-widgets/controls",
      "model_module_version": "2.0.0",
      "model_name": "DescriptionStyleModel",
      "state": {
       "_model_module": "@jupyter-widgets/controls",
       "_model_name": "DescriptionStyleModel",
       "_view_name": "ErrorWidgetView",
       "description_width": "",
       "error": {},
       "msg": "Failed to load model class 'DescriptionStyleModel' from module '@jupyter-widgets/controls'"
      }
     },
     "6d28c2f4d48043aa90f29bb764583bf9": {
      "model_module": "@jupyter-widgets/base",
      "model_module_version": "2.0.0",
      "model_name": "LayoutModel",
      "state": {
       "_model_name": "LayoutModel",
       "_view_name": "ErrorWidgetView",
       "align_content": null,
       "align_items": null,
       "align_self": null,
       "border": null,
       "bottom": null,
       "display": null,
       "error": {},
       "flex": null,
       "flex_flow": null,
       "grid_area": null,
       "grid_auto_columns": null,
       "grid_auto_flow": null,
       "grid_auto_rows": null,
       "grid_column": null,
       "grid_gap": null,
       "grid_row": null,
       "grid_template_areas": null,
       "grid_template_columns": null,
       "grid_template_rows": null,
       "height": null,
       "justify_content": null,
       "justify_items": null,
       "left": null,
       "margin": null,
       "max_height": null,
       "max_width": null,
       "min_height": null,
       "min_width": null,
       "msg": "Failed to load model class 'LayoutModel' from module '@jupyter-widgets/base'",
       "object_fit": null,
       "object_position": null,
       "order": null,
       "overflow": null,
       "overflow_x": null,
       "overflow_y": null,
       "padding": null,
       "right": null,
       "top": null,
       "visibility": null,
       "width": null
      }
     },
     "6e12fbb8b0f349e09c32c14601a1eddc": {
      "model_module": "@jupyter-widgets/controls",
      "model_module_version": "2.0.0",
      "model_name": "HTMLModel",
      "state": {
       "_model_module": "@jupyter-widgets/controls",
       "_model_name": "HTMLModel",
       "_view_name": "ErrorWidgetView",
       "description": "",
       "description_tooltip": null,
       "error": {},
       "layout": "IPY_MODEL_0cf8ded72d3147d681343573a3c5c3ad",
       "msg": "Failed to load model class 'HTMLModel' from module '@jupyter-widgets/controls'",
       "placeholder": "​",
       "style": "IPY_MODEL_07b43483463e4ae3b9a7b160d8938299",
       "value": "Loading graphs: 100%"
      }
     },
     "7821741103e94b03923bba81dbc4c2a9": {
      "model_module": "@jupyter-widgets/controls",
      "model_module_version": "2.0.0",
      "model_name": "HTMLModel",
      "state": {
       "_model_module": "@jupyter-widgets/controls",
       "_model_name": "HTMLModel",
       "_view_name": "ErrorWidgetView",
       "description": "",
       "description_tooltip": null,
       "error": {},
       "layout": "IPY_MODEL_0b87e5fec1ff41aeb4c9e624a222f89b",
       "msg": "Failed to load model class 'HTMLModel' from module '@jupyter-widgets/controls'",
       "placeholder": "​",
       "style": "IPY_MODEL_14391e150296461ca407c9ff78c5ae7e",
       "value": " 11534/11534 [00:56&lt;00:00, 247.95it/s]"
      }
     },
     "9706bfc895af4431a44ab22509435387": {
      "model_module": "@jupyter-widgets/controls",
      "model_module_version": "2.0.0",
      "model_name": "ProgressStyleModel",
      "state": {
       "_model_module": "@jupyter-widgets/controls",
       "_model_name": "ProgressStyleModel",
       "_view_name": "ErrorWidgetView",
       "bar_color": null,
       "description_width": "",
       "error": {},
       "msg": "Failed to load model class 'ProgressStyleModel' from module '@jupyter-widgets/controls'"
      }
     },
     "9b5d28e41af94931b674dcd1ddf14562": {
      "model_module": "@jupyter-widgets/base",
      "model_module_version": "2.0.0",
      "model_name": "LayoutModel",
      "state": {
       "_model_name": "LayoutModel",
       "_view_name": "ErrorWidgetView",
       "align_content": null,
       "align_items": null,
       "align_self": null,
       "border": null,
       "bottom": null,
       "display": null,
       "error": {},
       "flex": null,
       "flex_flow": null,
       "grid_area": null,
       "grid_auto_columns": null,
       "grid_auto_flow": null,
       "grid_auto_rows": null,
       "grid_column": null,
       "grid_gap": null,
       "grid_row": null,
       "grid_template_areas": null,
       "grid_template_columns": null,
       "grid_template_rows": null,
       "height": null,
       "justify_content": null,
       "justify_items": null,
       "left": null,
       "margin": null,
       "max_height": null,
       "max_width": null,
       "min_height": null,
       "min_width": null,
       "msg": "Failed to load model class 'LayoutModel' from module '@jupyter-widgets/base'",
       "object_fit": null,
       "object_position": null,
       "order": null,
       "overflow": null,
       "overflow_x": null,
       "overflow_y": null,
       "padding": null,
       "right": null,
       "top": null,
       "visibility": null,
       "width": null
      }
     },
     "c5606e09c1de4100be70fc1ef5fb367d": {
      "model_module": "@jupyter-widgets/base",
      "model_module_version": "2.0.0",
      "model_name": "LayoutModel",
      "state": {
       "_model_name": "LayoutModel",
       "_view_name": "ErrorWidgetView",
       "align_content": null,
       "align_items": null,
       "align_self": null,
       "border": null,
       "bottom": null,
       "display": null,
       "error": {},
       "flex": null,
       "flex_flow": null,
       "grid_area": null,
       "grid_auto_columns": null,
       "grid_auto_flow": null,
       "grid_auto_rows": null,
       "grid_column": null,
       "grid_gap": null,
       "grid_row": null,
       "grid_template_areas": null,
       "grid_template_columns": null,
       "grid_template_rows": null,
       "height": null,
       "justify_content": null,
       "justify_items": null,
       "left": null,
       "margin": null,
       "max_height": null,
       "max_width": null,
       "min_height": null,
       "min_width": null,
       "msg": "Failed to load model class 'LayoutModel' from module '@jupyter-widgets/base'",
       "object_fit": null,
       "object_position": null,
       "order": null,
       "overflow": null,
       "overflow_x": null,
       "overflow_y": null,
       "padding": null,
       "right": null,
       "top": null,
       "visibility": null,
       "width": null
      }
     },
     "ce6b2459d7fb430d9b0a8820031189de": {
      "model_module": "@jupyter-widgets/controls",
      "model_module_version": "2.0.0",
      "model_name": "FloatProgressModel",
      "state": {
       "_model_module": "@jupyter-widgets/controls",
       "_model_name": "FloatProgressModel",
       "_view_name": "ErrorWidgetView",
       "bar_style": "success",
       "description": "",
       "description_tooltip": null,
       "error": {},
       "layout": "IPY_MODEL_c5606e09c1de4100be70fc1ef5fb367d",
       "max": 11534,
       "min": 0,
       "msg": "Failed to load model class 'FloatProgressModel' from module '@jupyter-widgets/controls'",
       "orientation": "horizontal",
       "style": "IPY_MODEL_45e44448b1ea450db792b21878b84f01",
       "value": 11534
      }
     },
     "e9446ec84ebf43ada6872814f2acb0bb": {
      "model_module": "@jupyter-widgets/base",
      "model_module_version": "2.0.0",
      "model_name": "LayoutModel",
      "state": {
       "_model_name": "LayoutModel",
       "_view_name": "ErrorWidgetView",
       "align_content": null,
       "align_items": null,
       "align_self": null,
       "border": null,
       "bottom": null,
       "display": null,
       "error": {},
       "flex": null,
       "flex_flow": null,
       "grid_area": null,
       "grid_auto_columns": null,
       "grid_auto_flow": null,
       "grid_auto_rows": null,
       "grid_column": null,
       "grid_gap": null,
       "grid_row": null,
       "grid_template_areas": null,
       "grid_template_columns": null,
       "grid_template_rows": null,
       "height": null,
       "justify_content": null,
       "justify_items": null,
       "left": null,
       "margin": null,
       "max_height": null,
       "max_width": null,
       "min_height": null,
       "min_width": null,
       "msg": "Failed to load model class 'LayoutModel' from module '@jupyter-widgets/base'",
       "object_fit": null,
       "object_position": null,
       "order": null,
       "overflow": null,
       "overflow_x": null,
       "overflow_y": null,
       "padding": null,
       "right": null,
       "top": null,
       "visibility": null,
       "width": null
      }
     },
     "f64c7011415b4ea3a3043c3a81009193": {
      "model_module": "@jupyter-widgets/controls",
      "model_module_version": "2.0.0",
      "model_name": "HBoxModel",
      "state": {
       "_model_module": "@jupyter-widgets/controls",
       "_model_name": "HBoxModel",
       "_view_name": "ErrorWidgetView",
       "box_style": "",
       "children": [
        "IPY_MODEL_6e12fbb8b0f349e09c32c14601a1eddc",
        "IPY_MODEL_ce6b2459d7fb430d9b0a8820031189de",
        "IPY_MODEL_7821741103e94b03923bba81dbc4c2a9"
       ],
       "error": {},
       "layout": "IPY_MODEL_9b5d28e41af94931b674dcd1ddf14562",
       "msg": "Failed to load model class 'HBoxModel' from module '@jupyter-widgets/controls'"
      }
     }
    },
    "version_major": 2,
    "version_minor": 0
   }
  }
 },
 "nbformat": 4,
 "nbformat_minor": 5
}
