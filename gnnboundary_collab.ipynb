{
 "cells": [
  {
   "cell_type": "code",
   "id": "1a91b813",
   "metadata": {
    "collapsed": false,
    "pycharm": {
     "name": "#%%\n"
    }
   },
   "source": [
    "from sympy import bernoulli\n",
    "%load_ext autoreload\n",
    "%autoreload 2"
   ],
   "outputs": [],
   "execution_count": null
  },
  {
   "cell_type": "code",
   "id": "2ab76fb3",
   "metadata": {
    "collapsed": false,
    "pycharm": {
     "name": "#%%\n"
    }
   },
   "source": [
    "import torch\n",
    "import numpy as np"
   ],
   "outputs": [],
   "execution_count": null
  },
  {
   "metadata": {},
   "cell_type": "code",
   "source": "from gnnboundary import *",
   "id": "c7f4188d",
   "outputs": [],
   "execution_count": null
  },
  {
   "cell_type": "markdown",
   "id": "395a07f1",
   "metadata": {},
   "source": "# COLLAB"
  },
  {
   "cell_type": "code",
   "id": "52747602",
   "metadata": {
    "collapsed": false,
    "pycharm": {
     "name": "#%%\n"
    }
   },
   "source": "dataset = CollabDataset(seed=12345)",
   "outputs": [],
   "execution_count": null
  },
  {
   "cell_type": "code",
   "id": "11c148407d564a36",
   "metadata": {
    "collapsed": false
   },
   "source": [
    "model = GCNClassifier(node_features=len(dataset.NODE_CLS),\n",
    "                      num_classes=len(dataset.GRAPH_CLS),\n",
    "                      hidden_channels=64,\n",
    "                      num_layers=5)\n",
    "model.load_state_dict(torch.load('ckpts/collab.pt'))"
   ],
   "outputs": [],
   "execution_count": null
  },
  {
   "cell_type": "code",
   "source": [
    "dataset_list_gt = dataset.split_by_class()\n",
    "dataset_list_pred = dataset.split_by_pred(model)"
   ],
   "metadata": {
    "collapsed": false,
    "pycharm": {
     "name": "#%%\n"
    }
   },
   "id": "4c1617a4-666d-43de-8f0e-c5301b74375f",
   "outputs": [],
   "execution_count": null
  },
  {
   "cell_type": "code",
   "id": "6645ce41-8d77-4945-a474-561843ee8109",
   "metadata": {},
   "source": [
    "evaluation = dataset.model_evaluate(model)\n",
    "evaluation"
   ],
   "outputs": [],
   "execution_count": null
  },
  {
   "cell_type": "code",
   "source": [
    "draw_matrix(evaluation['cm'], dataset.GRAPH_CLS.values(), fmt='d')"
   ],
   "metadata": {
    "collapsed": false
   },
   "id": "4a7fa4ebd9122bb6",
   "outputs": [],
   "execution_count": null
  },
  {
   "cell_type": "code",
   "id": "d4a27bdf-0586-4652-9989-53b8257bb2e9",
   "metadata": {},
   "source": [
    "mean_embeds = [d.model_transform(model, key=\"embeds\").mean(dim=0) for d in dataset_list_gt]"
   ],
   "outputs": [],
   "execution_count": null
  },
  {
   "cell_type": "code",
   "source": [
    "adj_ratio_mat, boundary_info = pairwise_boundary_analysis(model, dataset_list_pred)\n",
    "draw_matrix(adj_ratio_mat, names=dataset.GRAPH_CLS.values(), fmt='.2f')"
   ],
   "metadata": {
    "collapsed": false
   },
   "id": "5babc5ffb39f4883",
   "outputs": [],
   "execution_count": null
  },
  {
   "cell_type": "code",
   "id": "2c966c81e3166b9e",
   "metadata": {
    "collapsed": false
   },
   "source": [
    "trainer = {}\n",
    "sampler = {}"
   ],
   "outputs": [],
   "execution_count": null
  },
  {
   "cell_type": "markdown",
   "id": "383c9c7a23eb249f",
   "metadata": {
    "collapsed": false
   },
   "source": "# 0 & 1"
  },
  {
   "cell_type": "code",
   "id": "bc959668d833b3b6",
   "metadata": {
    "collapsed": false
   },
   "source": [
    "cls_1, cls_2 = 0, 1\n",
    "trainer[cls_1, cls_2] = Trainer(\n",
    "    sampler=(s := GraphSampler(\n",
    "        max_nodes=25,\n",
    "        temperature=0.2,\n",
    "        num_node_cls=len(dataset.NODE_CLS),\n",
    "        learn_node_feat=True\n",
    "    )),\n",
    "    discriminator=model,\n",
    "    criterion=WeightedCriterion([\n",
    "        dict(key=\"logits\", criterion=DynamicBalancingBoundaryCriterion(classes=[cls_1, cls_2]), weight=25),\n",
    "        dict(key=\"embeds\", criterion=EmbeddingCriterion(target_embedding=mean_embeds[cls_1]), weight=0),\n",
    "        dict(key=\"embeds\", criterion=EmbeddingCriterion(target_embedding=mean_embeds[cls_2]), weight=0),\n",
    "        dict(key=\"logits\", criterion=MeanPenalty(), weight=0),\n",
    "        dict(key=\"omega\", criterion=NormPenalty(order=1), weight=2),\n",
    "        dict(key=\"omega\", criterion=NormPenalty(order=2), weight=1),\n",
    "        # dict(key=\"xi\", criterion=NormPenalty(order=1), weight=0),\n",
    "        # dict(key=\"xi\", criterion=NormPenalty(order=2), weight=0),\n",
    "        # dict(key=\"eta\", criterion=NormPenalty(order=1), weight=0),\n",
    "        # dict(key=\"eta\", criterion=NormPenalty(order=2), weight=0),\n",
    "        dict(key=\"theta_pairs\", criterion=KLDivergencePenalty(binary=True), weight=0),\n",
    "    ]),\n",
    "    optimizer=(o := torch.optim.SGD(s.parameters(), lr=1)),\n",
    "    scheduler=torch.optim.lr_scheduler.ExponentialLR(o, gamma=1),\n",
    "    dataset=dataset,\n",
    "    budget_penalty=BudgetPenalty(budget=10, order=2, beta=1),\n",
    ")"
   ],
   "outputs": [],
   "execution_count": null
  },
  {
   "cell_type": "code",
   "id": "4c0bd9796d611c52",
   "metadata": {
    "collapsed": false
   },
   "source": [
    "cls_1, cls_2 = 0, 1\n",
    "trainer[cls_1, cls_2].train(\n",
    "    iterations=2000,\n",
    "    target_probs={cls_1: (0.4, 0.6), cls_2: (0.4, 0.6)},\n",
    "    target_size=30,\n",
    "    w_budget_init=1,\n",
    "    w_budget_inc=1.1,\n",
    "    w_budget_dec=0.95,\n",
    "    k_samples=16\n",
    ")"
   ],
   "outputs": [],
   "execution_count": null
  },
  {
   "cell_type": "markdown",
   "source": "# 0 & 2",
   "metadata": {
    "collapsed": false
   },
   "id": "3b14f7f32f4e893f"
  },
  {
   "cell_type": "code",
   "source": [
    "cls_1, cls_2 = 0, 2\n",
    "trainer[cls_1, cls_2] = Trainer(\n",
    "    sampler=(s := GraphSampler(\n",
    "        max_nodes=25,\n",
    "        temperature=0.2,\n",
    "        num_node_cls=len(dataset.NODE_CLS),\n",
    "        learn_node_feat=True\n",
    "    )),\n",
    "    discriminator=model,\n",
    "    criterion=WeightedCriterion([\n",
    "        dict(key=\"logits\", criterion=DynamicBalancingBoundaryCriterion(classes=[cls_1, cls_2]), weight=25),\n",
    "        dict(key=\"embeds\", criterion=EmbeddingCriterion(target_embedding=mean_embeds[cls_1]), weight=0),\n",
    "        dict(key=\"embeds\", criterion=EmbeddingCriterion(target_embedding=mean_embeds[cls_2]), weight=0),\n",
    "        dict(key=\"logits\", criterion=MeanPenalty(), weight=0),\n",
    "        dict(key=\"omega\", criterion=NormPenalty(order=1), weight=2),\n",
    "        dict(key=\"omega\", criterion=NormPenalty(order=2), weight=1),\n",
    "        # dict(key=\"xi\", criterion=NormPenalty(order=1), weight=0),\n",
    "        # dict(key=\"xi\", criterion=NormPenalty(order=2), weight=0),\n",
    "        # dict(key=\"eta\", criterion=NormPenalty(order=1), weight=0),\n",
    "        # dict(key=\"eta\", criterion=NormPenalty(order=2), weight=0),\n",
    "        dict(key=\"theta_pairs\", criterion=KLDivergencePenalty(binary=True), weight=0),\n",
    "    ]),\n",
    "    optimizer=(o := torch.optim.SGD(s.parameters(), lr=1)),\n",
    "    scheduler=torch.optim.lr_scheduler.ExponentialLR(o, gamma=1),\n",
    "    dataset=dataset,\n",
    "    budget_penalty=BudgetPenalty(budget=10, order=2, beta=1)\n",
    ")"
   ],
   "metadata": {
    "collapsed": false
   },
   "id": "e0c56d1257c6f78a",
   "outputs": [],
   "execution_count": null
  },
  {
   "cell_type": "code",
   "source": [
    "cls_1, cls_2 = 0, 2\n",
    "trainer[cls_1, cls_2].train(\n",
    "    iterations=2000,\n",
    "    target_probs={cls_1: (0.4, 0.6), cls_2: (0.4, 0.6)},\n",
    "    target_size=30,\n",
    "    w_budget_init=1,\n",
    "    w_budget_inc=1.1,\n",
    "    w_budget_dec=0.95,\n",
    "    k_samples=16\n",
    ")"
   ],
   "metadata": {
    "collapsed": false
   },
   "id": "9322ac39a908f5b3",
   "outputs": [],
   "execution_count": null
  },
  {
   "cell_type": "code",
   "source": "trainer[0, 2].evaluate(threshold=0.5, show=True)",
   "metadata": {
    "collapsed": false
   },
   "id": "d332cd2cbd296c97",
   "outputs": [],
   "execution_count": null
  },
  {
   "metadata": {},
   "cell_type": "code",
   "source": [
    "adjacent_class_pairs = [(0, 1), (0, 2)]\n",
    "num_classes = len(dataset.GRAPH_CLS)\n",
    "num_samples = 128\n",
    "boundary_margin = np.zeros((num_classes, num_classes))\n",
    "boundary_thickness = np.zeros((num_classes, num_classes))\n",
    "\n",
    "for class_pair in adjacent_class_pairs:\n",
    "    c1, c2 = class_pair\n",
    "\n",
    "    cur_trainer = trainer[c1, c2]\n",
    "\n",
    "    print(f'Complexity: {get_model_complexity(cur_trainer, original_class_idx=c1, adjacent_class_idx=c2, num_samples=num_samples)}')\n",
    "    margin = get_model_boundary_margin(cur_trainer,\n",
    "                                       dataset_list_pred,\n",
    "                                       model,\n",
    "                                       original_class_idx=c1,\n",
    "                                       adjacent_class_idx=c2,\n",
    "                                       num_samples=num_samples,\n",
    "                                       from_best_boundary_graph=False)\n",
    "\n",
    "    thickness = get_model_boundary_thickness(cur_trainer,\n",
    "                                             dataset_list_pred,\n",
    "                                             model,\n",
    "                                             original_class_idx=c1,\n",
    "                                             adjacent_class_idx=c2,\n",
    "                                             num_samples=num_samples,\n",
    "                                             from_best_boundary_graph=False)\n",
    "    boundary_thickness[c1, c2] = thickness\n",
    "    boundary_margin[c1, c2] = margin\n",
    "\n",
    "    margin = get_model_boundary_margin(cur_trainer,\n",
    "                                       dataset_list_pred,\n",
    "                                       model,\n",
    "                                       original_class_idx=c2,\n",
    "                                       adjacent_class_idx=c1,\n",
    "                                       num_samples=num_samples,\n",
    "                                       from_best_boundary_graph=False)\n",
    "\n",
    "    thickness = get_model_boundary_thickness(cur_trainer,\n",
    "                                             dataset_list_pred,\n",
    "                                             model,\n",
    "                                             original_class_idx=c2,\n",
    "                                             adjacent_class_idx=c1,\n",
    "                                             num_samples=num_samples,\n",
    "                                             from_best_boundary_graph=False)\n",
    "\n",
    "    boundary_margin[c2, c1] = margin\n",
    "    boundary_thickness[c2, c1] = thickness\n",
    "\n",
    "\n",
    "draw_matrix(boundary_margin, dataset.GRAPH_CLS.values())\n",
    "draw_matrix(boundary_thickness, dataset.GRAPH_CLS.values())"
   ],
   "id": "b6438a082ff09874",
   "outputs": [],
   "execution_count": null
  }
 ],
 "metadata": {
  "kernelspec": {
   "display_name": "Python 3 (ipykernel)",
   "language": "python",
   "name": "python3"
  },
  "language_info": {
   "codemirror_mode": {
    "name": "ipython",
    "version": 3
   },
   "file_extension": ".py",
   "mimetype": "text/x-python",
   "name": "python",
   "nbconvert_exporter": "python",
   "pygments_lexer": "ipython3",
   "version": "3.10.12"
  },
  "widgets": {
   "application/vnd.jupyter.widget-state+json": {
    "state": {
     "07b43483463e4ae3b9a7b160d8938299": {
      "model_module": "@jupyter-widgets/controls",
      "model_module_version": "2.0.0",
      "model_name": "DescriptionStyleModel",
      "state": {
       "_model_module": "@jupyter-widgets/controls",
       "_model_name": "DescriptionStyleModel",
       "_view_name": "ErrorWidgetView",
       "description_width": "",
       "error": {},
       "msg": "Failed to load model class 'DescriptionStyleModel' from module '@jupyter-widgets/controls'"
      }
     },
     "0b87e5fec1ff41aeb4c9e624a222f89b": {
      "model_module": "@jupyter-widgets/base",
      "model_module_version": "2.0.0",
      "model_name": "LayoutModel",
      "state": {
       "_model_name": "LayoutModel",
       "_view_name": "ErrorWidgetView",
       "align_content": null,
       "align_items": null,
       "align_self": null,
       "border": null,
       "bottom": null,
       "display": null,
       "error": {},
       "flex": null,
       "flex_flow": null,
       "grid_area": null,
       "grid_auto_columns": null,
       "grid_auto_flow": null,
       "grid_auto_rows": null,
       "grid_column": null,
       "grid_gap": null,
       "grid_row": null,
       "grid_template_areas": null,
       "grid_template_columns": null,
       "grid_template_rows": null,
       "height": null,
       "justify_content": null,
       "justify_items": null,
       "left": null,
       "margin": null,
       "max_height": null,
       "max_width": null,
       "min_height": null,
       "min_width": null,
       "msg": "Failed to load model class 'LayoutModel' from module '@jupyter-widgets/base'",
       "object_fit": null,
       "object_position": null,
       "order": null,
       "overflow": null,
       "overflow_x": null,
       "overflow_y": null,
       "padding": null,
       "right": null,
       "top": null,
       "visibility": null,
       "width": null
      }
     },
     "0cf8ded72d3147d681343573a3c5c3ad": {
      "model_module": "@jupyter-widgets/base",
      "model_module_version": "2.0.0",
      "model_name": "LayoutModel",
      "state": {
       "_model_name": "LayoutModel",
       "_view_name": "ErrorWidgetView",
       "align_content": null,
       "align_items": null,
       "align_self": null,
       "border": null,
       "bottom": null,
       "display": null,
       "error": {},
       "flex": null,
       "flex_flow": null,
       "grid_area": null,
       "grid_auto_columns": null,
       "grid_auto_flow": null,
       "grid_auto_rows": null,
       "grid_column": null,
       "grid_gap": null,
       "grid_row": null,
       "grid_template_areas": null,
       "grid_template_columns": null,
       "grid_template_rows": null,
       "height": null,
       "justify_content": null,
       "justify_items": null,
       "left": null,
       "margin": null,
       "max_height": null,
       "max_width": null,
       "min_height": null,
       "min_width": null,
       "msg": "Failed to load model class 'LayoutModel' from module '@jupyter-widgets/base'",
       "object_fit": null,
       "object_position": null,
       "order": null,
       "overflow": null,
       "overflow_x": null,
       "overflow_y": null,
       "padding": null,
       "right": null,
       "top": null,
       "visibility": null,
       "width": null
      }
     },
     "0ef53961cc214c23a5cc520142ed3530": {
      "model_module": "@jupyter-widgets/controls",
      "model_module_version": "2.0.0",
      "model_name": "DescriptionStyleModel",
      "state": {
       "_model_module": "@jupyter-widgets/controls",
       "_model_name": "DescriptionStyleModel",
       "_view_name": "ErrorWidgetView",
       "description_width": "",
       "error": {},
       "msg": "Failed to load model class 'DescriptionStyleModel' from module '@jupyter-widgets/controls'"
      }
     },
     "10730754cf7a43eca9820d10763e9a41": {
      "model_module": "@jupyter-widgets/controls",
      "model_module_version": "2.0.0",
      "model_name": "HTMLModel",
      "state": {
       "_model_module": "@jupyter-widgets/controls",
       "_model_name": "HTMLModel",
       "_view_name": "ErrorWidgetView",
       "description": "",
       "description_tooltip": null,
       "error": {},
       "layout": "IPY_MODEL_1958cff3714b451e95a8fbc5e76541b6",
       "msg": "Failed to load model class 'HTMLModel' from module '@jupyter-widgets/controls'",
       "placeholder": "​",
       "style": "IPY_MODEL_0ef53961cc214c23a5cc520142ed3530",
       "value": " 11531/11531 [00:33&lt;00:00, 255.26it/s]"
      }
     },
     "14391e150296461ca407c9ff78c5ae7e": {
      "model_module": "@jupyter-widgets/controls",
      "model_module_version": "2.0.0",
      "model_name": "DescriptionStyleModel",
      "state": {
       "_model_module": "@jupyter-widgets/controls",
       "_model_name": "DescriptionStyleModel",
       "_view_name": "ErrorWidgetView",
       "description_width": "",
       "error": {},
       "msg": "Failed to load model class 'DescriptionStyleModel' from module '@jupyter-widgets/controls'"
      }
     },
     "1958cff3714b451e95a8fbc5e76541b6": {
      "model_module": "@jupyter-widgets/base",
      "model_module_version": "2.0.0",
      "model_name": "LayoutModel",
      "state": {
       "_model_name": "LayoutModel",
       "_view_name": "ErrorWidgetView",
       "align_content": null,
       "align_items": null,
       "align_self": null,
       "border": null,
       "bottom": null,
       "display": null,
       "error": {},
       "flex": null,
       "flex_flow": null,
       "grid_area": null,
       "grid_auto_columns": null,
       "grid_auto_flow": null,
       "grid_auto_rows": null,
       "grid_column": null,
       "grid_gap": null,
       "grid_row": null,
       "grid_template_areas": null,
       "grid_template_columns": null,
       "grid_template_rows": null,
       "height": null,
       "justify_content": null,
       "justify_items": null,
       "left": null,
       "margin": null,
       "max_height": null,
       "max_width": null,
       "min_height": null,
       "min_width": null,
       "msg": "Failed to load model class 'LayoutModel' from module '@jupyter-widgets/base'",
       "object_fit": null,
       "object_position": null,
       "order": null,
       "overflow": null,
       "overflow_x": null,
       "overflow_y": null,
       "padding": null,
       "right": null,
       "top": null,
       "visibility": null,
       "width": null
      }
     },
     "218cfca13d80402ab877a02fc12211cb": {
      "model_module": "@jupyter-widgets/base",
      "model_module_version": "2.0.0",
      "model_name": "LayoutModel",
      "state": {
       "_model_name": "LayoutModel",
       "_view_name": "ErrorWidgetView",
       "align_content": null,
       "align_items": null,
       "align_self": null,
       "border": null,
       "bottom": null,
       "display": null,
       "error": {},
       "flex": null,
       "flex_flow": null,
       "grid_area": null,
       "grid_auto_columns": null,
       "grid_auto_flow": null,
       "grid_auto_rows": null,
       "grid_column": null,
       "grid_gap": null,
       "grid_row": null,
       "grid_template_areas": null,
       "grid_template_columns": null,
       "grid_template_rows": null,
       "height": null,
       "justify_content": null,
       "justify_items": null,
       "left": null,
       "margin": null,
       "max_height": null,
       "max_width": null,
       "min_height": null,
       "min_width": null,
       "msg": "Failed to load model class 'LayoutModel' from module '@jupyter-widgets/base'",
       "object_fit": null,
       "object_position": null,
       "order": null,
       "overflow": null,
       "overflow_x": null,
       "overflow_y": null,
       "padding": null,
       "right": null,
       "top": null,
       "visibility": null,
       "width": null
      }
     },
     "26ccacccb90843b7ac727e9595ab1596": {
      "model_module": "@jupyter-widgets/controls",
      "model_module_version": "2.0.0",
      "model_name": "HBoxModel",
      "state": {
       "_model_module": "@jupyter-widgets/controls",
       "_model_name": "HBoxModel",
       "_view_name": "ErrorWidgetView",
       "box_style": "",
       "children": [
        "IPY_MODEL_34fa3b9e3ba74ee399312caeceb99f69",
        "IPY_MODEL_54daa2fea4ec45d0a23452074efd359e",
        "IPY_MODEL_10730754cf7a43eca9820d10763e9a41"
       ],
       "error": {},
       "layout": "IPY_MODEL_6d28c2f4d48043aa90f29bb764583bf9",
       "msg": "Failed to load model class 'HBoxModel' from module '@jupyter-widgets/controls'"
      }
     },
     "34fa3b9e3ba74ee399312caeceb99f69": {
      "model_module": "@jupyter-widgets/controls",
      "model_module_version": "2.0.0",
      "model_name": "HTMLModel",
      "state": {
       "_model_module": "@jupyter-widgets/controls",
       "_model_name": "HTMLModel",
       "_view_name": "ErrorWidgetView",
       "description": "",
       "description_tooltip": null,
       "error": {},
       "layout": "IPY_MODEL_e9446ec84ebf43ada6872814f2acb0bb",
       "msg": "Failed to load model class 'HTMLModel' from module '@jupyter-widgets/controls'",
       "placeholder": "​",
       "style": "IPY_MODEL_690ee1b6a3cf43adb5164f200cad4fb4",
       "value": "100%"
      }
     },
     "45e44448b1ea450db792b21878b84f01": {
      "model_module": "@jupyter-widgets/controls",
      "model_module_version": "2.0.0",
      "model_name": "ProgressStyleModel",
      "state": {
       "_model_module": "@jupyter-widgets/controls",
       "_model_name": "ProgressStyleModel",
       "_view_name": "ErrorWidgetView",
       "bar_color": null,
       "description_width": "",
       "error": {},
       "msg": "Failed to load model class 'ProgressStyleModel' from module '@jupyter-widgets/controls'"
      }
     },
     "54daa2fea4ec45d0a23452074efd359e": {
      "model_module": "@jupyter-widgets/controls",
      "model_module_version": "2.0.0",
      "model_name": "FloatProgressModel",
      "state": {
       "_model_module": "@jupyter-widgets/controls",
       "_model_name": "FloatProgressModel",
       "_view_name": "ErrorWidgetView",
       "bar_style": "success",
       "description": "",
       "description_tooltip": null,
       "error": {},
       "layout": "IPY_MODEL_218cfca13d80402ab877a02fc12211cb",
       "max": 11531,
       "min": 0,
       "msg": "Failed to load model class 'FloatProgressModel' from module '@jupyter-widgets/controls'",
       "orientation": "horizontal",
       "style": "IPY_MODEL_9706bfc895af4431a44ab22509435387",
       "value": 11531
      }
     },
     "690ee1b6a3cf43adb5164f200cad4fb4": {
      "model_module": "@jupyter-widgets/controls",
      "model_module_version": "2.0.0",
      "model_name": "DescriptionStyleModel",
      "state": {
       "_model_module": "@jupyter-widgets/controls",
       "_model_name": "DescriptionStyleModel",
       "_view_name": "ErrorWidgetView",
       "description_width": "",
       "error": {},
       "msg": "Failed to load model class 'DescriptionStyleModel' from module '@jupyter-widgets/controls'"
      }
     },
     "6d28c2f4d48043aa90f29bb764583bf9": {
      "model_module": "@jupyter-widgets/base",
      "model_module_version": "2.0.0",
      "model_name": "LayoutModel",
      "state": {
       "_model_name": "LayoutModel",
       "_view_name": "ErrorWidgetView",
       "align_content": null,
       "align_items": null,
       "align_self": null,
       "border": null,
       "bottom": null,
       "display": null,
       "error": {},
       "flex": null,
       "flex_flow": null,
       "grid_area": null,
       "grid_auto_columns": null,
       "grid_auto_flow": null,
       "grid_auto_rows": null,
       "grid_column": null,
       "grid_gap": null,
       "grid_row": null,
       "grid_template_areas": null,
       "grid_template_columns": null,
       "grid_template_rows": null,
       "height": null,
       "justify_content": null,
       "justify_items": null,
       "left": null,
       "margin": null,
       "max_height": null,
       "max_width": null,
       "min_height": null,
       "min_width": null,
       "msg": "Failed to load model class 'LayoutModel' from module '@jupyter-widgets/base'",
       "object_fit": null,
       "object_position": null,
       "order": null,
       "overflow": null,
       "overflow_x": null,
       "overflow_y": null,
       "padding": null,
       "right": null,
       "top": null,
       "visibility": null,
       "width": null
      }
     },
     "6e12fbb8b0f349e09c32c14601a1eddc": {
      "model_module": "@jupyter-widgets/controls",
      "model_module_version": "2.0.0",
      "model_name": "HTMLModel",
      "state": {
       "_model_module": "@jupyter-widgets/controls",
       "_model_name": "HTMLModel",
       "_view_name": "ErrorWidgetView",
       "description": "",
       "description_tooltip": null,
       "error": {},
       "layout": "IPY_MODEL_0cf8ded72d3147d681343573a3c5c3ad",
       "msg": "Failed to load model class 'HTMLModel' from module '@jupyter-widgets/controls'",
       "placeholder": "​",
       "style": "IPY_MODEL_07b43483463e4ae3b9a7b160d8938299",
       "value": "Loading graphs: 100%"
      }
     },
     "7821741103e94b03923bba81dbc4c2a9": {
      "model_module": "@jupyter-widgets/controls",
      "model_module_version": "2.0.0",
      "model_name": "HTMLModel",
      "state": {
       "_model_module": "@jupyter-widgets/controls",
       "_model_name": "HTMLModel",
       "_view_name": "ErrorWidgetView",
       "description": "",
       "description_tooltip": null,
       "error": {},
       "layout": "IPY_MODEL_0b87e5fec1ff41aeb4c9e624a222f89b",
       "msg": "Failed to load model class 'HTMLModel' from module '@jupyter-widgets/controls'",
       "placeholder": "​",
       "style": "IPY_MODEL_14391e150296461ca407c9ff78c5ae7e",
       "value": " 11534/11534 [00:56&lt;00:00, 247.95it/s]"
      }
     },
     "9706bfc895af4431a44ab22509435387": {
      "model_module": "@jupyter-widgets/controls",
      "model_module_version": "2.0.0",
      "model_name": "ProgressStyleModel",
      "state": {
       "_model_module": "@jupyter-widgets/controls",
       "_model_name": "ProgressStyleModel",
       "_view_name": "ErrorWidgetView",
       "bar_color": null,
       "description_width": "",
       "error": {},
       "msg": "Failed to load model class 'ProgressStyleModel' from module '@jupyter-widgets/controls'"
      }
     },
     "9b5d28e41af94931b674dcd1ddf14562": {
      "model_module": "@jupyter-widgets/base",
      "model_module_version": "2.0.0",
      "model_name": "LayoutModel",
      "state": {
       "_model_name": "LayoutModel",
       "_view_name": "ErrorWidgetView",
       "align_content": null,
       "align_items": null,
       "align_self": null,
       "border": null,
       "bottom": null,
       "display": null,
       "error": {},
       "flex": null,
       "flex_flow": null,
       "grid_area": null,
       "grid_auto_columns": null,
       "grid_auto_flow": null,
       "grid_auto_rows": null,
       "grid_column": null,
       "grid_gap": null,
       "grid_row": null,
       "grid_template_areas": null,
       "grid_template_columns": null,
       "grid_template_rows": null,
       "height": null,
       "justify_content": null,
       "justify_items": null,
       "left": null,
       "margin": null,
       "max_height": null,
       "max_width": null,
       "min_height": null,
       "min_width": null,
       "msg": "Failed to load model class 'LayoutModel' from module '@jupyter-widgets/base'",
       "object_fit": null,
       "object_position": null,
       "order": null,
       "overflow": null,
       "overflow_x": null,
       "overflow_y": null,
       "padding": null,
       "right": null,
       "top": null,
       "visibility": null,
       "width": null
      }
     },
     "c5606e09c1de4100be70fc1ef5fb367d": {
      "model_module": "@jupyter-widgets/base",
      "model_module_version": "2.0.0",
      "model_name": "LayoutModel",
      "state": {
       "_model_name": "LayoutModel",
       "_view_name": "ErrorWidgetView",
       "align_content": null,
       "align_items": null,
       "align_self": null,
       "border": null,
       "bottom": null,
       "display": null,
       "error": {},
       "flex": null,
       "flex_flow": null,
       "grid_area": null,
       "grid_auto_columns": null,
       "grid_auto_flow": null,
       "grid_auto_rows": null,
       "grid_column": null,
       "grid_gap": null,
       "grid_row": null,
       "grid_template_areas": null,
       "grid_template_columns": null,
       "grid_template_rows": null,
       "height": null,
       "justify_content": null,
       "justify_items": null,
       "left": null,
       "margin": null,
       "max_height": null,
       "max_width": null,
       "min_height": null,
       "min_width": null,
       "msg": "Failed to load model class 'LayoutModel' from module '@jupyter-widgets/base'",
       "object_fit": null,
       "object_position": null,
       "order": null,
       "overflow": null,
       "overflow_x": null,
       "overflow_y": null,
       "padding": null,
       "right": null,
       "top": null,
       "visibility": null,
       "width": null
      }
     },
     "ce6b2459d7fb430d9b0a8820031189de": {
      "model_module": "@jupyter-widgets/controls",
      "model_module_version": "2.0.0",
      "model_name": "FloatProgressModel",
      "state": {
       "_model_module": "@jupyter-widgets/controls",
       "_model_name": "FloatProgressModel",
       "_view_name": "ErrorWidgetView",
       "bar_style": "success",
       "description": "",
       "description_tooltip": null,
       "error": {},
       "layout": "IPY_MODEL_c5606e09c1de4100be70fc1ef5fb367d",
       "max": 11534,
       "min": 0,
       "msg": "Failed to load model class 'FloatProgressModel' from module '@jupyter-widgets/controls'",
       "orientation": "horizontal",
       "style": "IPY_MODEL_45e44448b1ea450db792b21878b84f01",
       "value": 11534
      }
     },
     "e9446ec84ebf43ada6872814f2acb0bb": {
      "model_module": "@jupyter-widgets/base",
      "model_module_version": "2.0.0",
      "model_name": "LayoutModel",
      "state": {
       "_model_name": "LayoutModel",
       "_view_name": "ErrorWidgetView",
       "align_content": null,
       "align_items": null,
       "align_self": null,
       "border": null,
       "bottom": null,
       "display": null,
       "error": {},
       "flex": null,
       "flex_flow": null,
       "grid_area": null,
       "grid_auto_columns": null,
       "grid_auto_flow": null,
       "grid_auto_rows": null,
       "grid_column": null,
       "grid_gap": null,
       "grid_row": null,
       "grid_template_areas": null,
       "grid_template_columns": null,
       "grid_template_rows": null,
       "height": null,
       "justify_content": null,
       "justify_items": null,
       "left": null,
       "margin": null,
       "max_height": null,
       "max_width": null,
       "min_height": null,
       "min_width": null,
       "msg": "Failed to load model class 'LayoutModel' from module '@jupyter-widgets/base'",
       "object_fit": null,
       "object_position": null,
       "order": null,
       "overflow": null,
       "overflow_x": null,
       "overflow_y": null,
       "padding": null,
       "right": null,
       "top": null,
       "visibility": null,
       "width": null
      }
     },
     "f64c7011415b4ea3a3043c3a81009193": {
      "model_module": "@jupyter-widgets/controls",
      "model_module_version": "2.0.0",
      "model_name": "HBoxModel",
      "state": {
       "_model_module": "@jupyter-widgets/controls",
       "_model_name": "HBoxModel",
       "_view_name": "ErrorWidgetView",
       "box_style": "",
       "children": [
        "IPY_MODEL_6e12fbb8b0f349e09c32c14601a1eddc",
        "IPY_MODEL_ce6b2459d7fb430d9b0a8820031189de",
        "IPY_MODEL_7821741103e94b03923bba81dbc4c2a9"
       ],
       "error": {},
       "layout": "IPY_MODEL_9b5d28e41af94931b674dcd1ddf14562",
       "msg": "Failed to load model class 'HBoxModel' from module '@jupyter-widgets/controls'"
      }
     }
    },
    "version_major": 2,
    "version_minor": 0
   }
  }
 },
 "nbformat": 4,
 "nbformat_minor": 5
}
