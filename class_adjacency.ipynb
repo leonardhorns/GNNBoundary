{
 "cells": [
  {
   "cell_type": "code",
   "id": "initial_id",
   "metadata": {
    "collapsed": true
   },
   "source": [
    "%load_ext autoreload\n",
    "%autoreload 2"
   ],
   "outputs": [],
   "execution_count": null
  },
  {
   "metadata": {},
   "cell_type": "code",
   "source": [
    "import torch\n",
    "import numpy as np\n",
    "\n",
    "from gnnboundary import *"
   ],
   "id": "e8b0ce458bf213eb",
   "outputs": [],
   "execution_count": null
  },
  {
   "metadata": {},
   "cell_type": "markdown",
   "source": "### Load Dataset",
   "id": "9825dbfcb4eb42aa"
  },
  {
   "metadata": {},
   "cell_type": "code",
   "source": [
    "seed = 12345\n",
    "dataset_name = \"motif\"\n",
    "\n",
    "datasets = {\n",
    " \"collab\": CollabDataset(seed=seed),\n",
    " \"motif\": MotifDataset(seed=seed),\n",
    " \"enzymes\": ENZYMESDataset(seed=seed)\n",
    "}\n",
    "\n",
    "dataset = datasets[dataset_name]"
   ],
   "id": "d4a72bd971107d75",
   "outputs": [],
   "execution_count": null
  },
  {
   "metadata": {},
   "cell_type": "markdown",
   "source": "### Load Model",
   "id": "2a8e934b321a6ef3"
  },
  {
   "metadata": {},
   "cell_type": "code",
   "source": [
    "config = {\n",
    "    \"node_features\": len(dataset.NODE_CLS),\n",
    "    \"num_classes\": len(dataset.GRAPH_CLS),\n",
    "}\n",
    "\n",
    "match dataset_name:\n",
    "    case \"collab\":\n",
    "        config[\"hidden_channels\"] = 64\n",
    "        config[\"num_layers\"] = 5\n",
    "    case \"motif\":\n",
    "        config[\"hidden_channels\"] = 6\n",
    "        config[\"num_layers\"] = 3\n",
    "    case \"enzymes\":\n",
    "        config[\"hidden_channels\"] = 32\n",
    "        config[\"num_layers\"] = 3\n",
    "    case _:\n",
    "        pass\n",
    "\n",
    "model = GCNClassifier(**config)\n",
    "model.load_state_dict(torch.load(f\"ckpts/{dataset_name}_retrained.pt\")['model'])"
   ],
   "id": "218eb8da3bd309dc",
   "outputs": [],
   "execution_count": null
  },
  {
   "metadata": {},
   "cell_type": "code",
   "source": [
    "dataset_list_gt = dataset.split_by_class()\n",
    "dataset_list_pred = dataset.split_by_pred(model)"
   ],
   "id": "4875a6c240fc85c2",
   "outputs": [],
   "execution_count": null
  },
  {
   "metadata": {},
   "cell_type": "markdown",
   "source": "### Evaluate Model",
   "id": "49be3a9c34e0add0"
  },
  {
   "metadata": {},
   "cell_type": "code",
   "source": [
    "evaluation = dataset.model_evaluate(model, use_test_only=False)\n",
    "evaluation"
   ],
   "id": "58f6d5d7a7d54dc7",
   "outputs": [],
   "execution_count": null
  },
  {
   "metadata": {},
   "cell_type": "code",
   "source": [
    "draw_matrix(\n",
    "    evaluation['cm'], \n",
    "    dataset.GRAPH_CLS.values(), \n",
    "    fmt='d', \n",
    "    file_name=f\"{dataset_name}_confusion_all.jpg\", \n",
    "    save_path=\".\\\\figures\\\\confusion_matrix\\\\from_checkpoints\")"
   ],
   "id": "cb2bc6c7603713c7",
   "outputs": [],
   "execution_count": null
  },
  {
   "metadata": {},
   "cell_type": "markdown",
   "source": "### Compute adjacency",
   "id": "8e5a63af0bb6c762"
  },
  {
   "metadata": {},
   "cell_type": "code",
   "source": [
    "from tqdm import tqdm\n",
    "\n",
    "experiment_results = []\n",
    "\n",
    "for _ in tqdm(range(10)):\n",
    "    adj_ratio_mat, _ = pairwise_boundary_analysis(model, dataset_list_pred)\n",
    "    experiment_results.append(adj_ratio_mat)\n",
    "\n",
    "result = np.array(experiment_results).mean(axis=0)\n",
    "draw_matrix(\n",
    "    result, \n",
    "    names=dataset.GRAPH_CLS.values(), \n",
    "    fmt='.2f',\n",
    "    file_name=f\"{dataset_name}_adjacency.jpg\", \n",
    "    save_path=\".\\\\figures\\\\adjacency_matrix\\\\from_checkpoints\")"
   ],
   "id": "5780a920f1a137de",
   "outputs": [],
   "execution_count": null
  }
 ],
 "metadata": {
  "kernelspec": {
   "display_name": "Python 3",
   "language": "python",
   "name": "python3"
  },
  "language_info": {
   "codemirror_mode": {
    "name": "ipython",
    "version": 2
   },
   "file_extension": ".py",
   "mimetype": "text/x-python",
   "name": "python",
   "nbconvert_exporter": "python",
   "pygments_lexer": "ipython2",
   "version": "2.7.6"
  }
 },
 "nbformat": 4,
 "nbformat_minor": 5
}
