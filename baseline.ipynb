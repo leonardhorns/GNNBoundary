{
 "cells": [
  {
   "cell_type": "code",
   "id": "initial_id",
   "metadata": {
    "collapsed": true,
    "ExecuteTime": {
     "end_time": "2025-01-20T13:48:15.073476Z",
     "start_time": "2025-01-20T13:48:07.493375Z"
    }
   },
   "source": [
    "from gnnboundary.utils.boundary_baseline import BaselineGenerator\n",
    "%load_ext autoreload\n",
    "%autoreload 2"
   ],
   "outputs": [],
   "execution_count": 1
  },
  {
   "metadata": {
    "ExecuteTime": {
     "end_time": "2025-01-20T13:48:15.215786Z",
     "start_time": "2025-01-20T13:48:15.080711Z"
    }
   },
   "cell_type": "code",
   "source": [
    "import torch\n",
    "import numpy as np\n",
    "\n",
    "from gnnboundary import *"
   ],
   "id": "7a0f22db4b48793",
   "outputs": [],
   "execution_count": 2
  },
  {
   "metadata": {
    "ExecuteTime": {
     "end_time": "2025-01-20T13:48:32.489245Z",
     "start_time": "2025-01-20T13:48:15.299484Z"
    }
   },
   "cell_type": "code",
   "source": [
    "seed = 12345\n",
    "dataset_name = \"motif\"\n",
    "\n",
    "datasets = {\n",
    " \"collab\": CollabDataset(seed=seed),\n",
    " \"motif\": MotifDataset(seed=seed),\n",
    " \"enzymes\": ENZYMESDataset(seed=seed)\n",
    "}\n",
    "\n",
    "dataset = datasets[dataset_name]"
   ],
   "id": "9807115ca50043eb",
   "outputs": [],
   "execution_count": 3
  },
  {
   "metadata": {
    "ExecuteTime": {
     "end_time": "2025-01-20T13:48:36.791494Z",
     "start_time": "2025-01-20T13:48:36.660621Z"
    }
   },
   "cell_type": "code",
   "source": [
    "config = {\n",
    "    \"node_features\": len(dataset.NODE_CLS),\n",
    "    \"num_classes\": len(dataset.GRAPH_CLS),\n",
    "}\n",
    "\n",
    "match dataset_name:\n",
    "    case \"collab\":\n",
    "        config[\"hidden_channels\"] = 64\n",
    "        config[\"num_layers\"] = 5\n",
    "    case \"motif\":\n",
    "        config[\"hidden_channels\"] = 6\n",
    "        config[\"num_layers\"] = 3\n",
    "    case \"enzymes\":\n",
    "        config[\"hidden_channels\"] = 32\n",
    "        config[\"num_layers\"] = 3\n",
    "    case _:\n",
    "        pass\n",
    "\n",
    "model = GCNClassifier(**config)\n",
    "model.load_state_dict(torch.load(f\"ckpts/{dataset_name}.pt\"))"
   ],
   "id": "b5476241b3151dc7",
   "outputs": [
    {
     "data": {
      "text/plain": [
       "<All keys matched successfully>"
      ]
     },
     "execution_count": 7,
     "metadata": {},
     "output_type": "execute_result"
    }
   ],
   "execution_count": 7
  },
  {
   "metadata": {
    "ExecuteTime": {
     "end_time": "2025-01-20T13:48:43.104742Z",
     "start_time": "2025-01-20T13:48:38.377627Z"
    }
   },
   "cell_type": "code",
   "source": [
    "dataset_list_gt = dataset.split_by_class()\n",
    "dataset_list_pred = dataset.split_by_pred(model)"
   ],
   "id": "76b42cf9c30f8745",
   "outputs": [
    {
     "name": "stderr",
     "output_type": "stream",
     "text": [
      "C:\\Users\\40774\\miniconda3\\envs\\gnnboundary\\Lib\\site-packages\\torch_geometric\\data\\in_memory_dataset.py:300: UserWarning: It is not recommended to directly access the internal storage format `data` of an 'InMemoryDataset'. The data of the dataset is already cached, so any modifications to `data` will not be reflected when accessing its elements. Clearing the cache now by removing all elements in `dataset._data_list`. If you are absolutely certain what you are doing, access the internal storage via `InMemoryDataset._data` instead to suppress this warning. Alternatively, you can access stacked individual attributes of every graph via `dataset.{attr_name}`.\n",
      "  warnings.warn(msg)\n"
     ]
    }
   ],
   "execution_count": 8
  },
  {
   "metadata": {
    "ExecuteTime": {
     "end_time": "2025-01-20T14:26:46.489357Z",
     "start_time": "2025-01-20T14:26:41.384432Z"
    }
   },
   "cell_type": "code",
   "source": [
    "from gnnboundary.utils import BaselineGenerator\n",
    "generator = BaselineGenerator(dataset_list_gt, [0, 1])\n",
    "samples = generator.sample(500)"
   ],
   "id": "b5a6b15f7069407f",
   "outputs": [],
   "execution_count": 54
  },
  {
   "metadata": {
    "ExecuteTime": {
     "end_time": "2025-01-20T14:26:54.417900Z",
     "start_time": "2025-01-20T14:26:54.227677Z"
    }
   },
   "cell_type": "code",
   "source": [
    "model.eval()\n",
    "model.forward(dataset.convert(samples))"
   ],
   "id": "fd17b0626dba9097",
   "outputs": [
    {
     "data": {
      "text/plain": [
       "{'logits': tensor([[  2.6943,  -2.4076,   0.8165, -16.9743],\n",
       "         [ -1.6338,  12.3863, -26.5659,   6.5137],\n",
       "         [ -1.6364,  11.8628, -25.6314,   5.9107],\n",
       "         [ -6.5746,   9.8233, -31.7823,   5.2988],\n",
       "         [ -4.0561,   5.7960, -22.6268,  -2.1732]], grad_fn=<AddmmBackward0>),\n",
       " 'probs': tensor([[8.6280e-01, 5.2505e-03, 1.3195e-01, 2.4771e-09],\n",
       "         [8.1274e-07, 9.9719e-01, 1.2080e-17, 2.8077e-03],\n",
       "         [1.3684e-06, 9.9740e-01, 5.1919e-17, 2.5936e-03],\n",
       "         [7.4784e-08, 9.8928e-01, 8.4382e-19, 1.0724e-02],\n",
       "         [5.2616e-05, 9.9960e-01, 4.5287e-13, 3.4584e-04]],\n",
       "        grad_fn=<SoftmaxBackward0>),\n",
       " 'embeds': tensor([[-7.9656e+01,  4.7470e+01,  3.6517e+00, -8.8096e+00, -1.7062e+00,\n",
       "          -2.1349e+00, -8.4740e-01,  5.0501e-01,  3.8848e-02, -9.3719e-02,\n",
       "          -1.8151e-02, -2.2711e-02],\n",
       "         [-4.6818e+01,  3.0863e+01,  1.4830e+00, -7.3004e+00, -3.0632e+00,\n",
       "          -1.0982e+00, -7.6750e-01,  5.0595e-01,  2.4312e-02, -1.1968e-01,\n",
       "          -5.0217e-02, -1.8004e-02],\n",
       "         [-4.9241e+01,  3.1908e+01,  1.4346e+00, -6.8520e+00, -2.1576e+00,\n",
       "          -1.2336e-01, -8.4898e-01,  5.5013e-01,  2.4734e-02, -1.1814e-01,\n",
       "          -3.7200e-02, -2.1269e-03],\n",
       "         [-1.3391e+02,  9.0754e+01,  6.8969e+00, -1.7125e+01, -4.8549e+00,\n",
       "          -2.1342e+00, -8.5295e-01,  5.7805e-01,  4.3929e-02, -1.0908e-01,\n",
       "          -3.0923e-02, -1.3594e-02],\n",
       "         [-1.3234e+02,  8.3459e+01,  5.8607e+00, -1.5417e+01, -3.6464e+00,\n",
       "          -2.1900e+00, -8.5932e-01,  5.4194e-01,  3.8057e-02, -1.0011e-01,\n",
       "          -2.3678e-02, -1.4221e-02]], grad_fn=<CatBackward0>),\n",
       " 'embeds_last': tensor([[ 0.0000,  2.0715,  0.0000, 11.9935,  0.0000, 38.9075],\n",
       "         [ 0.0000,  6.6276,  0.0000, 11.9677,  0.0000, 20.8246],\n",
       "         [ 0.0000,  6.4083,  0.0000, 12.0885,  0.0000, 21.4140],\n",
       "         [ 0.0000,  7.8208,  0.0000, 29.8256,  0.0000, 59.3651],\n",
       "         [ 0.0000,  6.4174,  0.0000, 26.6253,  0.0000, 58.7061]],\n",
       "        grad_fn=<ReluBackward0>)}"
      ]
     },
     "execution_count": 55,
     "metadata": {},
     "output_type": "execute_result"
    }
   ],
   "execution_count": 55
  }
 ],
 "metadata": {
  "kernelspec": {
   "display_name": "Python 3",
   "language": "python",
   "name": "python3"
  },
  "language_info": {
   "codemirror_mode": {
    "name": "ipython",
    "version": 2
   },
   "file_extension": ".py",
   "mimetype": "text/x-python",
   "name": "python",
   "nbconvert_exporter": "python",
   "pygments_lexer": "ipython2",
   "version": "2.7.6"
  }
 },
 "nbformat": 4,
 "nbformat_minor": 5
}
