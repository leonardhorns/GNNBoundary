{
 "cells": [
  {
   "cell_type": "code",
   "id": "initial_id",
   "metadata": {
    "collapsed": true,
    "ExecuteTime": {
     "end_time": "2025-01-20T15:02:13.455895Z",
     "start_time": "2025-01-20T15:02:10.688328Z"
    }
   },
   "source": [
    "from gnnboundary.utils.boundary_baseline import BaselineGenerator\n",
    "%load_ext autoreload\n",
    "%autoreload 2"
   ],
   "outputs": [],
   "execution_count": 1
  },
  {
   "metadata": {
    "ExecuteTime": {
     "end_time": "2025-01-20T15:02:13.481588Z",
     "start_time": "2025-01-20T15:02:13.465374Z"
    }
   },
   "cell_type": "code",
   "source": [
    "import torch\n",
    "\n",
    "from gnnboundary import *"
   ],
   "id": "7a0f22db4b48793",
   "outputs": [],
   "execution_count": 2
  },
  {
   "metadata": {
    "ExecuteTime": {
     "end_time": "2025-01-20T15:02:35.477397Z",
     "start_time": "2025-01-20T15:02:13.485981Z"
    }
   },
   "cell_type": "code",
   "source": [
    "seed = 12345\n",
    "\n",
    "datasets = {\n",
    " \"collab\": CollabDataset(seed=seed),\n",
    " \"motif\": MotifDataset(seed=seed),\n",
    " \"enzymes\": ENZYMESDataset(seed=seed)\n",
    "}\n"
   ],
   "id": "9807115ca50043eb",
   "outputs": [],
   "execution_count": 3
  },
  {
   "metadata": {
    "ExecuteTime": {
     "end_time": "2025-01-20T15:02:35.619550Z",
     "start_time": "2025-01-20T15:02:35.564999Z"
    }
   },
   "cell_type": "code",
   "source": [
    "from gnnboundary.utils import BaselineGenerator\n",
    "\n",
    "def baseline_class_probabilities(dataset_name, model, class_pair, num_samples=500):\n",
    "\n",
    "    dataset = datasets[dataset_name]\n",
    "\n",
    "    generator = BaselineGenerator(dataset.split_by_class(), class_pair)\n",
    "    samples = generator.sample(num_samples)\n",
    "\n",
    "    model.eval()\n",
    "    return model.forward(dataset.convert(samples))['probs']\n",
    "\n",
    "def get_model(dataset_name):\n",
    "\n",
    "    dataset = datasets[dataset_name]\n",
    "\n",
    "    config = {\n",
    "        \"node_features\": len(dataset.NODE_CLS),\n",
    "        \"num_classes\": len(dataset.GRAPH_CLS),\n",
    "    }\n",
    "\n",
    "    match dataset_name:\n",
    "        case \"collab\":\n",
    "            config[\"hidden_channels\"] = 64\n",
    "            config[\"num_layers\"] = 5\n",
    "        case \"motif\":\n",
    "            config[\"hidden_channels\"] = 6\n",
    "            config[\"num_layers\"] = 3\n",
    "        case \"enzymes\":\n",
    "            config[\"hidden_channels\"] = 32\n",
    "            config[\"num_layers\"] = 3\n",
    "        case _:\n",
    "            pass\n",
    "\n",
    "    model = GCNClassifier(**config)\n",
    "    model.load_state_dict(torch.load(f\"ckpts/{dataset_name}.pt\"))\n",
    "\n",
    "    return model\n"
   ],
   "id": "b5a6b15f7069407f",
   "outputs": [],
   "execution_count": 4
  },
  {
   "metadata": {
    "ExecuteTime": {
     "end_time": "2025-01-20T15:03:34.704190Z",
     "start_time": "2025-01-20T15:02:35.678609Z"
    }
   },
   "cell_type": "code",
   "source": [
    "dataset_name = 'motif'\n",
    "adjacent_class_pairs = [[0, 1], [0, 2], [1, 2]]\n",
    "model = get_model(dataset_name)\n",
    "\n",
    "for class_pair in adjacent_class_pairs:\n",
    "    class_probabilities = baseline_class_probabilities(dataset_name, model, class_pair)\n",
    "    print(f'Class pair {class_pair}')\n",
    "    print(f'    --- Mean class probabilities {class_probabilities.mean(dim=0)}')\n",
    "    print(f'    --- Std class probabilities {class_probabilities.std(dim=0)}')"
   ],
   "id": "fd17b0626dba9097",
   "outputs": [
    {
     "name": "stdout",
     "output_type": "stream",
     "text": [
      "Testing baseline\n"
     ]
    },
    {
     "name": "stderr",
     "output_type": "stream",
     "text": [
      "/Users/tymechatupanyachotikul/miniconda3/envs/gnnboundary/lib/python3.11/site-packages/torch_geometric/data/in_memory_dataset.py:300: UserWarning: It is not recommended to directly access the internal storage format `data` of an 'InMemoryDataset'. If you are absolutely certain what you are doing, access the internal storage via `InMemoryDataset._data` instead to suppress this warning. Alternatively, you can access stacked individual attributes of every graph via `dataset.{attr_name}`.\n",
      "  warnings.warn(msg)\n"
     ]
    }
   ],
   "execution_count": null
  },
  {
   "metadata": {},
   "cell_type": "code",
   "outputs": [],
   "execution_count": null,
   "source": [
    "dataset_name = 'collab'\n",
    "adjacent_class_pairs = [[0, 1], [0, 2]]\n",
    "model = get_model(dataset_name)\n",
    "\n",
    "for class_pair in adjacent_class_pairs:\n",
    "    class_probabilities = baseline_class_probabilities(dataset_name, model, class_pair)\n",
    "    print(f'Class pair {class_pair}')\n",
    "    print(f'    --- Mean class probabilities {class_probabilities.mean(dim=0)}')\n",
    "    print(f'    --- Std class probabilities {class_probabilities.std(dim=0)}')"
   ],
   "id": "356f26152937b1bd"
  },
  {
   "metadata": {},
   "cell_type": "code",
   "outputs": [],
   "execution_count": null,
   "source": [
    "dataset_name = 'enzymes'\n",
    "adjacent_class_pairs = [[0, 3], [0, 4], [0, 5], [1, 2], [1, 5], [2, 4], [3, 4], [4, 5]]\n",
    "model = get_model(dataset_name)\n",
    "\n",
    "for class_pair in adjacent_class_pairs:\n",
    "    class_probabilities = baseline_class_probabilities(dataset_name, model, class_pair)\n",
    "    print(f'Class pair {class_pair}')\n",
    "    print(f'    --- Mean class probabilities {class_probabilities.mean(dim=0)}')\n",
    "    print(f'    --- Std class probabilities {class_probabilities.std(dim=0)}')"
   ],
   "id": "933cbb3496b4757b"
  }
 ],
 "metadata": {
  "kernelspec": {
   "display_name": "Python 3",
   "language": "python",
   "name": "python3"
  },
  "language_info": {
   "codemirror_mode": {
    "name": "ipython",
    "version": 2
   },
   "file_extension": ".py",
   "mimetype": "text/x-python",
   "name": "python",
   "nbconvert_exporter": "python",
   "pygments_lexer": "ipython2",
   "version": "2.7.6"
  }
 },
 "nbformat": 4,
 "nbformat_minor": 5
}
