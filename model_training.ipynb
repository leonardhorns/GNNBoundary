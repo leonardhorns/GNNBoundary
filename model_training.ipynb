{
 "cells": [
  {
   "cell_type": "code",
   "execution_count": 2,
   "id": "8c2caaab483d0a24",
   "metadata": {
    "ExecuteTime": {
     "end_time": "2025-01-26T16:36:51.625916Z",
     "start_time": "2025-01-26T16:36:51.582414Z"
    },
    "collapsed": false
   },
   "outputs": [],
   "source": [
    "%load_ext autoreload\n",
    "%autoreload 2"
   ]
  },
  {
   "cell_type": "code",
   "execution_count": 3,
   "id": "8afbbc605bb13730",
   "metadata": {
    "ExecuteTime": {
     "end_time": "2025-01-26T16:36:55.730665Z",
     "start_time": "2025-01-26T16:36:52.571445Z"
    },
    "collapsed": false
   },
   "outputs": [],
   "source": [
    "import torch\n",
    "from tqdm.auto import trange"
   ]
  },
  {
   "cell_type": "code",
   "execution_count": 4,
   "id": "97e983f9da03809c",
   "metadata": {
    "ExecuteTime": {
     "end_time": "2025-01-26T16:37:01.603510Z",
     "start_time": "2025-01-26T16:36:55.736369Z"
    }
   },
   "outputs": [],
   "source": [
    "from gnnboundary import *"
   ]
  },
  {
   "cell_type": "markdown",
   "id": "2364be7c0ee37620",
   "metadata": {
    "collapsed": false
   },
   "source": [
    "# Reddit"
   ]
  },
  {
   "cell_type": "code",
   "execution_count": 16,
   "id": "bca55afbaf19a7ec",
   "metadata": {
    "ExecuteTime": {
     "end_time": "2025-01-26T15:11:34.844073Z",
     "start_time": "2025-01-26T15:11:27.887452Z"
    }
   },
   "outputs": [],
   "source": [
    "reddit = RedditDataset(seed=69)\n",
    "reddit_train, reddit_val = reddit.train_test_split(k=10)\n",
    "reddit_model = GCNClassifier(node_features=len(reddit.NODE_CLS),\n",
    "                            num_classes=len(reddit.GRAPH_CLS),\n",
    "                            hidden_channels=64,\n",
    "                            num_layers=5)"
   ]
  },
  {
   "cell_type": "code",
   "execution_count": null,
   "id": "53bc2cea71fe9144",
   "metadata": {
    "ExecuteTime": {
     "end_time": "2025-01-26T16:05:40.534421Z",
     "start_time": "2025-01-26T15:49:33.979869Z"
    }
   },
   "outputs": [],
   "source": [
    "patience = 10\n",
    "best_val_acc = float('-inf')\n",
    "counter = 0\n",
    "lr = 0.004\n",
    "\n",
    "for epoch in range(100):\n",
    "    train_loss = reddit_train.model_fit(reddit_model, lr=lr)\n",
    "    train_metrics = reddit_train.model_evaluate(reddit_model)\n",
    "    val_metrics = reddit_val.model_evaluate(reddit_model)\n",
    "    \n",
    "    print(f\"Epoch: {epoch:03d}, \"\n",
    "          f\"Train Loss: {train_loss:.4f}, \"\n",
    "          f\"Test Acc: {val_metrics['acc']:.4f}, \"\n",
    "         )\n",
    "\n",
    "    if val_metrics['acc'] > best_val_acc:\n",
    "        best_val_acc = val_metrics['acc']\n",
    "        counter = 0\n",
    "        torch.save({\n",
    "            'epoch': epoch,\n",
    "            'model': reddit_model.state_dict(),\n",
    "            'val_acc': best_val_acc\n",
    "        }, 'ckpts/ours/reddit.pt')\n",
    "    else:\n",
    "        counter += 1\n",
    "\n",
    "    if counter >= patience:\n",
    "        lr = lr / 2\n",
    "        counter = 0"
   ]
  },
  {
   "cell_type": "code",
   "execution_count": null,
   "id": "b4024ec4052af0a",
   "metadata": {
    "ExecuteTime": {
     "end_time": "2025-01-26T16:09:05.692262Z",
     "start_time": "2025-01-26T16:09:05.490317Z"
    }
   },
   "outputs": [],
   "source": [
    "a = torch.load('ckpts/ours/reddit.pt')\n",
    "a['epoch'], a['val_acc']"
   ]
  },
  {
   "cell_type": "code",
   "execution_count": null,
   "id": "5ec004137a86be90",
   "metadata": {
    "ExecuteTime": {
     "start_time": "2025-01-26T16:42:39.681259Z"
    },
    "jupyter": {
     "is_executing": true
    }
   },
   "outputs": [],
   "source": [
    "reddit2 = MultiRedditDataset(seed=69)\n",
    "reddit2_train, reddit2_val = reddit2.train_test_split(k=10)\n",
    "reddit2_model = GCNClassifier(node_features=len(reddit2.NODE_CLS),\n",
    "                            num_classes=len(reddit2.GRAPH_CLS),\n",
    "                            hidden_channels=64,\n",
    "                            num_layers=5)"
   ]
  },
  {
   "cell_type": "code",
   "execution_count": null,
   "id": "8df3ba31830ba480",
   "metadata": {
    "ExecuteTime": {
     "end_time": "2025-01-26T14:09:08.239116Z",
     "start_time": "2025-01-26T14:09:08.063994Z"
    }
   },
   "outputs": [],
   "source": [
    "patience = 10\n",
    "best_val_acc = float('-inf')\n",
    "counter = 0\n",
    "lr = 0.004\n",
    "\n",
    "for epoch in range(100):\n",
    "    train_loss = reddit_train.model_fit(reddit_model, lr=lr)\n",
    "    train_metrics = reddit_train.model_evaluate(reddit_model)\n",
    "    val_metrics = reddit_val.model_evaluate(reddit_model)\n",
    "    \n",
    "    print(f\"Epoch: {epoch:03d}, \"\n",
    "          f\"Train Loss: {train_loss:.4f}, \"\n",
    "          f\"Test Acc: {val_metrics['acc']:.4f}, \"\n",
    "          f\"Lr: {lr:.4f}, \"\n",
    "         )\n",
    "\n",
    "    if val_metrics['acc'] > best_val_acc:\n",
    "        best_val_acc = val_metrics['acc']\n",
    "        counter = 0\n",
    "        torch.save({\n",
    "            'epoch': epoch,\n",
    "            'model': reddit_model.state_dict(),\n",
    "            'val_acc': best_val_acc\n",
    "        }, 'ckpts/ours/reddit.pt')\n",
    "    else:\n",
    "        counter += 1\n",
    "\n",
    "    if counter >= patience:\n",
    "        lr = lr / 2\n",
    "        counter = 0"
   ]
  },
  {
   "cell_type": "markdown",
   "id": "30fb6e8e5acaa2",
   "metadata": {},
   "source": [
    "# Motif"
   ]
  },
  {
   "cell_type": "code",
   "execution_count": null,
   "id": "85a99f52ad4d19a3",
   "metadata": {
    "ExecuteTime": {
     "end_time": "2025-01-26T13:25:19.646754Z",
     "start_time": "2025-01-26T13:25:15.641541Z"
    },
    "collapsed": false
   },
   "outputs": [],
   "source": [
    "motif = MotifDataset(seed=12345)\n",
    "# motif_train, motif_val = motif.train_test_split(k=10)\n",
    "# motif_model = GCNClassifier(node_features=len(motif.NODE_CLS),\n",
    "#                             num_classes=len(motif.GRAPH_CLS),\n",
    "#                             hidden_channels=6,\n",
    "#                             num_layers=3)"
   ]
  },
  {
   "cell_type": "code",
   "execution_count": null,
   "id": "77849acc80fe593e",
   "metadata": {
    "collapsed": false
   },
   "outputs": [],
   "source": [
    "for epoch in trange(128):\n",
    "    train_loss = motif_train.model_fit(motif_model, lr=0.001)\n",
    "    train_metrics = motif_train.model_evaluate(motif_model)\n",
    "    val_metrics = motif_val.model_evaluate(motif_model)\n",
    "    print(f\"Epoch: {epoch:03d}, \"\n",
    "          f\"Train Loss: {train_loss:.4f}, \"\n",
    "          f\"Train Acc: {train_metrics['acc']:.4f}, \"\n",
    "          f\"Test Acc: {val_metrics['acc']:.4f}, \"\n",
    "          f\"Train F1: {train_metrics['f1']}, \"\n",
    "          f\"Test F1: {val_metrics['f1']}\")"
   ]
  },
  {
   "cell_type": "code",
   "execution_count": null,
   "id": "b2a5adde85f03d0a",
   "metadata": {
    "collapsed": false
   },
   "outputs": [],
   "source": [
    "# torch.save(motif_model.state_dict(), 'ckpts/motif.pt')"
   ]
  },
  {
   "cell_type": "code",
   "execution_count": null,
   "id": "84bc57716bc8fbc4",
   "metadata": {},
   "outputs": [],
   "source": [
    "motif_model.load_state_dict(torch.load('ckpts/motif.pt'))"
   ]
  },
  {
   "cell_type": "markdown",
   "id": "a4004532c1bb4288",
   "metadata": {
    "collapsed": false
   },
   "source": [
    "# ENZYMES"
   ]
  },
  {
   "cell_type": "code",
   "execution_count": 4,
   "id": "d021848ae3c9d3f9",
   "metadata": {
    "ExecuteTime": {
     "end_time": "2024-04-21T13:40:14.515165Z",
     "start_time": "2024-04-21T13:40:14.373827Z"
    },
    "collapsed": false
   },
   "outputs": [],
   "source": [
    "enzymes = ENZYMESDataset(seed=12345)\n",
    "enzymes_train, enzymes_val = enzymes.train_test_split(k=10)\n",
    "enzymes_model = GCNClassifier(node_features=len(enzymes.NODE_CLS),\n",
    "                              num_classes=len(enzymes.GRAPH_CLS),\n",
    "                              hidden_channels=32,\n",
    "                              num_layers=3)"
   ]
  },
  {
   "cell_type": "code",
   "execution_count": null,
   "id": "75b6d2b5b5eb7a65",
   "metadata": {
    "ExecuteTime": {
     "end_time": "2024-04-21T13:40:15.373625Z",
     "start_time": "2024-04-21T13:40:15.338801Z"
    },
    "collapsed": false
   },
   "outputs": [],
   "source": [
    "enzymes_model.load_state_dict(torch.load('ckpts/enzymes.pt'))"
   ]
  },
  {
   "cell_type": "code",
   "execution_count": null,
   "id": "f8969c7da8ee7096",
   "metadata": {
    "ExecuteTime": {
     "end_time": "2024-04-21T13:55:45.286601Z",
     "start_time": "2024-04-21T13:40:42.226062Z"
    }
   },
   "outputs": [],
   "source": [
    "for epoch in range(4096):\n",
    "    train_loss = enzymes_train.model_fit(enzymes_model, lr=0.0001)\n",
    "    train_metrics = enzymes_train.model_evaluate(enzymes_model)\n",
    "    val_metrics = enzymes_val.model_evaluate(enzymes_model)\n",
    "    print(f\"Epoch: {epoch:03d}, \"\n",
    "          f\"Train Loss: {train_loss:.4f}, \"\n",
    "          f\"Train Acc: {train_metrics['acc']:.4f}, \"\n",
    "          f\"Test Acc: {val_metrics['acc']:.4f}, \"\n",
    "          f\"Train F1: {train_metrics['f1']}, \"\n",
    "          f\"Test F1: {val_metrics['f1']}\")"
   ]
  },
  {
   "cell_type": "code",
   "execution_count": 8,
   "id": "16ab2a56b86ae8a9",
   "metadata": {
    "ExecuteTime": {
     "end_time": "2024-04-21T14:06:36.427566Z",
     "start_time": "2024-04-21T14:06:36.272892Z"
    }
   },
   "outputs": [],
   "source": [
    "torch.save(enzymes_model.state_dict(), f\"ckpts/enzymes.pt\")"
   ]
  },
  {
   "cell_type": "markdown",
   "id": "2395a28099a8dcb9",
   "metadata": {},
   "source": [
    "# COLLAB"
   ]
  },
  {
   "cell_type": "code",
   "execution_count": null,
   "id": "2210c5e4f48fec89",
   "metadata": {
    "collapsed": false
   },
   "outputs": [],
   "source": [
    "collab = CollabDataset(seed=12345)\n",
    "collab_train, collab_val = collab.train_test_split(k=10)\n",
    "collab_model = GCNClassifier(node_features=len(collab.NODE_CLS),\n",
    "                             num_classes=len(collab.GRAPH_CLS),\n",
    "                             hidden_channels=64,\n",
    "                             num_layers=5)"
   ]
  },
  {
   "cell_type": "code",
   "execution_count": null,
   "id": "5e26c08ec23c9fe4",
   "metadata": {},
   "outputs": [],
   "source": [
    "for epoch in trange(1024):\n",
    "    train_loss = collab_train.model_fit(collab_model, lr=0.001)\n",
    "    train_metrics = collab_train.model_evaluate(collab_model)\n",
    "    val_metrics = collab_val.model_evaluate(collab_model)\n",
    "    print(f\"Epoch: {epoch:03d}, \"\n",
    "          f\"Train Loss: {train_loss:.4f}, \"\n",
    "          f\"Train Acc: {train_metrics['acc']:.4f}, \"\n",
    "          f\"Test Acc: {val_metrics['acc']:.4f}, \"\n",
    "          f\"Train F1: {train_metrics['f1']}, \"\n",
    "          f\"Test F1: {val_metrics['f1']}\")"
   ]
  },
  {
   "cell_type": "code",
   "execution_count": null,
   "id": "4e5b2a3fba9d8b8",
   "metadata": {},
   "outputs": [],
   "source": [
    "# torch.save(collab_model.state_dict(), f\"ckpts/collab.pt\")"
   ]
  },
  {
   "cell_type": "code",
   "execution_count": null,
   "id": "fadb9cc425025692",
   "metadata": {},
   "outputs": [],
   "source": [
    "collab_model.load_state_dict(torch.load('ckpts/collab.pt'))"
   ]
  },
  {
   "cell_type": "code",
   "execution_count": null,
   "id": "d699936d9d401a27",
   "metadata": {},
   "outputs": [],
   "source": []
  }
 ],
 "metadata": {
  "kernelspec": {
   "display_name": "Python 3",
   "language": "python",
   "name": "python3"
  },
  "language_info": {
   "codemirror_mode": {
    "name": "ipython",
    "version": 2
   },
   "file_extension": ".py",
   "mimetype": "text/x-python",
   "name": "python",
   "nbconvert_exporter": "python",
   "pygments_lexer": "ipython2",
   "version": "2.7.6"
  }
 },
 "nbformat": 4,
 "nbformat_minor": 5
}
